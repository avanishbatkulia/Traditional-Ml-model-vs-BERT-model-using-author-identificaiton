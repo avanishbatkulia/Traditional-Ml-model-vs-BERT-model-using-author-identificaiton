{
  "cells": [
    {
      "cell_type": "code",
      "execution_count": null,
      "metadata": {
        "id": "ADcklTHiUeF4"
      },
      "outputs": [],
      "source": [
        "# !pip install --force-reinstall --no-deps git+https://github.com/nltk/nltk@develop\n",
        "# import nltk\n",
        "# nltk.download(\"all\", quiet=True)"
      ]
    },
    {
      "cell_type": "code",
      "execution_count": null,
      "metadata": {
        "id": "DVRLmBf-Ueeu"
      },
      "outputs": [],
      "source": [
        "# # upgrade spacy to the latest version\n",
        "# !pip install -U pip setuptools wheel\n",
        "# !pip install -U spacy\n",
        "# !python -m spacy download en_core_web_sm"
      ]
    },
    {
      "cell_type": "code",
      "execution_count": null,
      "metadata": {
        "id": "59UHGqOZUf1t"
      },
      "outputs": [],
      "source": [
        "# !pip install gensim\n"
      ]
    },
    {
      "cell_type": "code",
      "execution_count": null,
      "metadata": {
        "colab": {
          "base_uri": "https://localhost:8080/"
        },
        "id": "x9OFH15FvTMl",
        "outputId": "6df28e38-c3ae-4c29-ad22-2aead7f4e75d"
      },
      "outputs": [
        {
          "output_type": "stream",
          "name": "stdout",
          "text": [
            "Dickens Training Book 1: I. The Absence of Mr Glass\n",
            "\n",
            "\n",
            "THE consulting-rooms of Dr Orion Hood, the eminent criminologist\n",
            "and sp...\n",
            "\n",
            "Dickens Training Book 2: CHAPTER I\n",
            "\n",
            "THE TWO POETS OF SAFFRON PARK\n",
            "\n",
            "THE suburb of Saffron Park lay on the sunset side of Londo...\n",
            "\n",
            "Austen Training Book 1: VOLUME I\n",
            "\n",
            "CHAPTER I\n",
            "\n",
            "\n",
            "Emma Woodhouse, handsome, clever, and rich, with a comfortable home\n",
            "and happy ...\n",
            "\n",
            "Shakespeare Training Book 1: I. France. The French King’s tent.\n",
            "\n",
            "Enter Constance, Arthur and Salisbury.\n",
            "\n",
            "CONSTANCE.\n",
            "Gone to be ma...\n",
            "\n",
            "Dickens Test Book 1: I. A DISCUSSION SOMEWHAT IN THE AIR\n",
            "\n",
            "The flying ship of Professor Lucifer sang through the skies lik...\n",
            "\n",
            "Austen Test Book 1: Chapter 1\n",
            "\n",
            "\n",
            "Sir Walter Elliot, of Kellynch Hall, in Somersetshire, was a man who,\n",
            "for his own amusem...\n",
            "\n",
            "Shakespeare Test Book 1: I. A field near Frogmore\n",
            "\n",
            "\n",
            "Enter Sir Hugh Evans and Simple.\n",
            "\n",
            "EVANS.\n",
            "I pray you now, good Master Slen...\n",
            "\n"
          ]
        },
        {
          "output_type": "stream",
          "name": "stderr",
          "text": [
            "[nltk_data] Downloading package gutenberg to /root/nltk_data...\n",
            "[nltk_data]   Package gutenberg is already up-to-date!\n"
          ]
        }
      ],
      "source": [
        "import re\n",
        "import nltk\n",
        "from nltk.corpus import gutenberg\n",
        "\n",
        "# Download the Gutenberg corpus if not already downloaded\n",
        "nltk.download(\"gutenberg\")\n",
        "\n",
        "def load_texts(book_list):\n",
        "    return [nltk.corpus.gutenberg.raw(book) for book in book_list]\n",
        "\n",
        "def load_text_from_file(filename):\n",
        "    \"\"\"Loads text from a file.\"\"\"\n",
        "    with open(filename, 'r') as file:\n",
        "        text = file.read()\n",
        "    return text\n",
        "\n",
        "def remove_preface_and_extract_chapter(text):\n",
        "    # Define patterns to identify the start of the first chapter or volume\n",
        "    chapter_start_patterns = [\n",
        "        r'\\bChapter\\s+1\\b',  # Common pattern for Chapter 1\n",
        "        r'\\bChapter\\s+I\\b',  # Roman numeral pattern for Chapter I\n",
        "        r'\\bCHAPTER\\s+ONE\\b',  # Uppercase pattern for CHAPTER ONE\n",
        "        r'\\bI\\.\\s+',  # Pattern for I. (some books might use this format)\n",
        "        r'\\b1\\.\\s+',  # Pattern for 1. (numeric format)\n",
        "        r'\\bVolume\\s+1\\b',  # Common pattern for Volume 1\n",
        "        r'\\bVolume\\s+I\\b',  # Roman numeral pattern for Volume I\n",
        "    ]\n",
        "\n",
        "    # Combine all patterns into one\n",
        "    combined_pattern = '|'.join(chapter_start_patterns)\n",
        "\n",
        "    # Search for the first occurrence of the chapter or volume start pattern\n",
        "    match = re.search(combined_pattern, text, re.IGNORECASE)\n",
        "\n",
        "    if match:\n",
        "        # If a match is found, extract the text from the start of the first chapter or volume onwards\n",
        "        chapter_start_index = match.start()\n",
        "        return text[chapter_start_index:]\n",
        "    else:\n",
        "        # If no match is found, return the original text (or handle it as needed)\n",
        "        print(\"No chapter or volume start pattern found.\")\n",
        "        return text\n",
        "\n",
        "def preprocess_texts(texts):\n",
        "    return [remove_preface_and_extract_chapter(text) for text in texts]\n",
        "\n",
        "# Training books (Charles Dickens)\n",
        "dickens_books_train = [\n",
        "    \"chesterton-brown.txt\",  # David Copperfield\n",
        "    \"chesterton-thursday.txt\",  # Great Expectations\n",
        "]\n",
        "\n",
        "# Training books (Jane Austen)\n",
        "austen_books_train = [\n",
        "    \"austen-emma.txt\",    # Emma\n",
        "    #\"austen-sense.txt\",    # Sense and Sensibility\n",
        "]\n",
        "\n",
        "# Load Shakespeare text from file\n",
        "shakespeare_book_train = load_text_from_file(\"shakespeare.txt\")\n",
        "\n",
        "# Training books (King James Bible)\n",
        "kj_books_train = ['bible-kjv.txt']\n",
        "\n",
        "\n",
        "# Test books\n",
        "dickens_books_test = [\"chesterton-ball.txt\"]  # A Tale of Two Cities\n",
        "austen_books_test = [\"austen-persuasion.txt\"]    # Persuasion\n",
        "shakespeare_books_test = [\n",
        "    \"shakespeare-macbeth.txt\",  # Macbeth\n",
        "    \"shakespeare-hamlet.txt\",   # Hamlet\n",
        "    \"shakespeare-caesar.txt\",   # Julius Caesar\n",
        "                           ]\n",
        "\n",
        "# Load the training sets\n",
        "dickens_texts_train = load_texts(dickens_books_train)\n",
        "austen_texts_train = load_texts(austen_books_train)\n",
        "# Extract 1/5th portion from the middle of Shakespeare text\n",
        "text_length = len(shakespeare_book_train)\n",
        "start_index = text_length // 2 - (text_length // 10)  # Start from a quarter of the way in\n",
        "end_index = start_index + text_length // 6\n",
        "shakespeare_texts_train = [shakespeare_book_train[start_index:end_index]]  # Extract\n",
        "\n",
        "#Loadig Test sets\n",
        "dickens_texts_test = load_texts(dickens_books_test)\n",
        "austen_texts_test = load_texts(austen_books_test)\n",
        "# Extract the next 1/10th portion for testing\n",
        "start_index_test = end_index\n",
        "end_index_test = start_index_test + text_length // 11\n",
        "shakespeare_texts_test = [shakespeare_book_train[start_index_test:end_index_test]]\n",
        "\n",
        "# Preprocess the texts to remove prefaces and keep only the part from the first chapter or volume onwards\n",
        "dickens_texts_train = preprocess_texts(dickens_texts_train)\n",
        "austen_texts_train = preprocess_texts(austen_texts_train)\n",
        "shakespeare_texts_train = preprocess_texts(shakespeare_texts_train)\n",
        "\n",
        "dickens_texts_test = preprocess_texts(dickens_texts_test)\n",
        "austen_texts_test = preprocess_texts(austen_texts_test)\n",
        "shakespeare_texts_test = preprocess_texts(shakespeare_texts_test)\n",
        "\n",
        "# Print the first 100 characters of each cleaned training text to verify\n",
        "for i, text in enumerate(dickens_texts_train):\n",
        "    print(f\"Dickens Training Book {i+1}: {text[:100]}...\\n\")\n",
        "\n",
        "for i, text in enumerate(austen_texts_train):\n",
        "    print(f\"Austen Training Book {i+1}: {text[:100]}...\\n\")\n",
        "\n",
        "for i, text in enumerate(shakespeare_texts_train):\n",
        "    print(f\"Shakespeare Training Book {i+1}: {text[:100]}...\\n\")\n",
        "\n",
        "# Print the first 100 characters of each cleaned test text to verify\n",
        "for i, text in enumerate(dickens_texts_test):\n",
        "    print(f\"Dickens Test Book {i+1}: {text[:100]}...\\n\")\n",
        "\n",
        "for i, text in enumerate(austen_texts_test):\n",
        "    print(f\"Austen Test Book {i+1}: {text[:100]}...\\n\")\n",
        "\n",
        "for i, text in enumerate(shakespeare_texts_test):\n",
        "    print(f\"Shakespeare Test Book {i+1}: {text[:100]}...\\n\")"
      ]
    },
    {
      "cell_type": "code",
      "execution_count": null,
      "metadata": {
        "colab": {
          "base_uri": "https://localhost:8080/"
        },
        "id": "OjrTc66Vwk5M",
        "outputId": "0c037557-08c8-4118-8b4a-b075be5c9332"
      },
      "outputs": [
        {
          "output_type": "stream",
          "name": "stdout",
          "text": [
            "Dickens Training Book 1 word count: 71616\n",
            "Dickens Training Book 2 word count: 57427\n",
            "Austen Training Book 1 word count: 158162\n",
            "Shakespeare Training Book 1 word count: 158078\n",
            "Dickens Test Book 1 word count: 81589\n",
            "Austen Test Book 1 word count: 83303\n",
            "Shakespeare Test Book 1 word count: 87017\n"
          ]
        }
      ],
      "source": [
        "# Function to calculate word count\n",
        "def calculate_word_count(text):\n",
        "    words = text.split()  # Split text into words based on whitespace\n",
        "    return len(words)  # Return the length of the list of words\n",
        "\n",
        "# Calculate and print word count for Dickens training books\n",
        "for i, text in enumerate(dickens_texts_train):\n",
        "    word_count = calculate_word_count(text)\n",
        "    print(f\"Dickens Training Book {i+1} word count: {word_count}\")\n",
        "\n",
        "# Calculate and print word count for Austen training books\n",
        "for i, text in enumerate(austen_texts_train):\n",
        "    word_count = calculate_word_count(text)\n",
        "    print(f\"Austen Training Book {i+1} word count: {word_count}\")\n",
        "\n",
        "# Calculate and print word count for Shakespeare training books\n",
        "for i, text in enumerate(shakespeare_texts_train):\n",
        "    word_count = calculate_word_count(text)\n",
        "    print(f\"Shakespeare Training Book {i+1} word count: {word_count}\")\n",
        "\n",
        "# Calculate and print word count for Dickens test books\n",
        "for i, text in enumerate(dickens_texts_test):\n",
        "    word_count = calculate_word_count(text)\n",
        "    print(f\"Dickens Test Book {i+1} word count: {word_count}\")\n",
        "\n",
        "# Calculate and print word count for Austen test books\n",
        "for i, text in enumerate(austen_texts_test):\n",
        "    word_count = calculate_word_count(text)\n",
        "    print(f\"Austen Test Book {i+1} word count: {word_count}\")\n",
        "\n",
        "# Calculate and print word count for Shakespeare test books\n",
        "for i, text in enumerate(shakespeare_texts_test):\n",
        "    word_count = calculate_word_count(text)\n",
        "    print(f\"Shakespeare Test Book {i+1} word count: {word_count}\")\n"
      ]
    },
    {
      "cell_type": "code",
      "execution_count": null,
      "metadata": {
        "colab": {
          "base_uri": "https://localhost:8080/"
        },
        "id": "YfM9AQSOPz__",
        "outputId": "91dcbe44-a937-4fe5-fb6c-9a0468eff4dd"
      },
      "outputs": [
        {
          "output_type": "stream",
          "name": "stdout",
          "text": [
            "Saved text to dickens_train_1.txt\n",
            "Saved text to dickens_train_2.txt\n",
            "Saved text to austen_train_1.txt\n",
            "Saved text to shakespeare_train_1.txt\n",
            "Saved text to dickens_test_1.txt\n",
            "Saved text to austen_test_1.txt\n",
            "Saved text to shakespeare_test_1.txt\n"
          ]
        }
      ],
      "source": [
        "# prompt: write a function to extract loaded data into text files\n",
        "\n",
        "def extract_to_files(texts, prefix):\n",
        "  \"\"\"\n",
        "  Extracts a list of texts into individual text files.\n",
        "\n",
        "  Args:\n",
        "    texts: A list of strings, where each string represents a text.\n",
        "    prefix: A string to be used as a prefix for the filenames.\n",
        "  \"\"\"\n",
        "\n",
        "  for i, text in enumerate(texts):\n",
        "    filename = f\"{prefix}_{i+1}.txt\"\n",
        "    with open(filename, 'w') as file:\n",
        "      file.write(text)\n",
        "    print(f\"Saved text to {filename}\")\n",
        "\n",
        "# Example usage:\n",
        "extract_to_files(dickens_texts_train, \"dickens_train\")\n",
        "extract_to_files(austen_texts_train, \"austen_train\")\n",
        "extract_to_files(shakespeare_texts_train, \"shakespeare_train\")\n",
        "\n",
        "extract_to_files(dickens_texts_test, \"dickens_test\")\n",
        "extract_to_files(austen_texts_test, \"austen_test\")\n",
        "extract_to_files(shakespeare_texts_test, \"shakespeare_test\")\n"
      ]
    },
    {
      "cell_type": "markdown",
      "metadata": {
        "id": "gl3YNgmfcsvZ"
      },
      "source": [
        "Performing NER - due to different writing style of shakespeare this code unlike for dickens and austen, does not works very well with shakespeare\n"
      ]
    },
    {
      "cell_type": "code",
      "execution_count": null,
      "metadata": {
        "id": "HJKYTuO9QjYK"
      },
      "outputs": [],
      "source": [
        "import spacy\n",
        "\n",
        "def extract_entities(text):\n",
        "    # Load spaCy model for NER\n",
        "    nlp = spacy.load(\"en_core_web_sm\")\n",
        "\n",
        "    # Process the text with spaCy NER\n",
        "    doc = nlp(text)\n",
        "\n",
        "    # Define the set of allowed entity labels\n",
        "    allowed_labels = {\"PERSON\", \"LOC\"}\n",
        "\n",
        "    # Extract entities and filter them based on allowed labels and PROPN type\n",
        "    entities = {ent.text.lower() for ent in doc.ents if ent.label_ in allowed_labels and  any(token.pos_ == \"PROPN\" for token in ent)}\n",
        "\n",
        "    return list(entities)\n",
        "\n"
      ]
    },
    {
      "cell_type": "code",
      "execution_count": null,
      "metadata": {
        "id": "lmq9XMyyQtmc"
      },
      "outputs": [],
      "source": [
        "#extracting entities for austen\n",
        "au_ent_test = extract_entities(austen_texts_test[0])\n",
        "au_ent_train = extract_entities(austen_texts_train[0])\n",
        "#Extracting entities for dickens\n",
        "dickens_ent_test = extract_entities(dickens_texts_test[0])\n",
        "dickens_ent_train = extract_entities(dickens_texts_train[0])"
      ]
    },
    {
      "cell_type": "code",
      "execution_count": null,
      "metadata": {
        "id": "9-OW1lMkUS4a"
      },
      "outputs": [],
      "source": [
        "sh_ent_test = extract_entities(shakespeare_texts_test[0])\n",
        "shakespeare_ent_train = extract_entities(shakespeare_texts_train[0])"
      ]
    },
    {
      "cell_type": "code",
      "execution_count": null,
      "metadata": {
        "colab": {
          "base_uri": "https://localhost:8080/"
        },
        "id": "ZCSG6nPMTy4q",
        "outputId": "4ef9a1a5-cda8-45c3-ebee-9ebd955b18c5"
      },
      "outputs": [
        {
          "output_type": "stream",
          "name": "stdout",
          "text": [
            "Austen Test Entites count:  197\n",
            "Austen Train Entites count:  294\n",
            "Dickens Test Entites count:  210\n",
            "Dickens Train Entites count:  252\n",
            "Shakespeare Test set entity count: 445\n",
            "Shakespeare Train set entity count: 829\n"
          ]
        }
      ],
      "source": [
        "print('Austen Test Entites count: ',len(au_ent_test))\n",
        "print('Austen Train Entites count: ',len(au_ent_train))\n",
        "print('Dickens Test Entites count: ',len(dickens_ent_test))\n",
        "print('Dickens Train Entites count: ',len(dickens_ent_train))\n",
        "print('Shakespeare Test set entity count:',len(sh_ent_test))\n",
        "print('Shakespeare Train set entity count:',len(shakespeare_ent_train))"
      ]
    },
    {
      "cell_type": "code",
      "execution_count": null,
      "metadata": {
        "colab": {
          "base_uri": "https://localhost:8080/"
        },
        "id": "TlJMOe0wUMTW",
        "outputId": "33b71389-5e69-43dd-d300-af7537b4c0ce"
      },
      "outputs": [
        {
          "output_type": "stream",
          "name": "stdout",
          "text": [
            "Austen Entities\n",
            "['john shepherd', 'cape', 'hayter', 'basil', 'james stevenson', 'atkinson', 'shirley', 'anne', 'sidmouth', 'crofts', 'trent', 'walter', 'leave little charles', 'captain brigden', 'harry', '&c.', 'sophy', 'a mrs smith', 'walter\\nelliot', 'mrs wallis', 'frederick wentworth', 'lady wentworth', 'charles said--', 'captain wentworth--', 'kindest', 'michaelmas', 'sophia', 'shabby', 'mr smith', 'clifton', 'mrs smith', 'anne\\n', 'louisa', \"mrs clay's\", 'scott', 'laura place', 'miss anne', 'taunton', 'mary to anne', 'mary for anne\\n', 'mary, anne', 'charles, anne', 'elizabeth', 'louise', \"mrs musgrove's\", 'walter elliot', 'charles ii', 'mrs charles', 'anne eagerly suggested--', 'lady dalrymple', \"mrs wallis's\", 'crewkherne', 'charles\\nmusgrove', 'anne haggard', 'mrs musgrove', 'charles musgrove', 'pleased;--\\ncharles hayter', 'anne eagerly', 'cousin charles', 'carteret', 'mrs', \"mrs charles's\", 'st domingo', 'queen squares', 'lady mary grierson', 'anne felt', 'uppercross', \"lady russell's\", 'mr musgrove', 'william', 'bath street', 'young', 'gloucester', 'dick musgrove', 'musgrove', 'mr hayter', 'benwick', 'kellynch hall', 'the western islands', 'thornberry', 'strafford', \"walter elliot's\", \"lady elliot's\", 'henry russell', \"charles hayter's\", 'emma', 'temple', \"louisa musgrove's\", 'the north seas', 'edward', 'mediterranean', 'mrs speed', 'harville', 'robinson', 'mrs shirley', 'mary', 'charles hayter', \"miss elliot's\", 'lady alicia', 'william walter elliot', 'richard', 'fanny harville', 'smiths', 'kellynch', 'minehead', \"mrs croft's\", 'henry', \"miss anne's\", 'winthrop', 'dick', 'frederick', \"lady dalrymple's\", 'tunbridge wells', \"mrs harville's\", 'archibald drew', 'captain', 'mrs croft', 'giaour', 'smith', 'a mrs clay', 'miss carteret', 'lady elliot', 'the concert room', \"mr musgrove's\", 'anne,--i', 'trafalgar', 'jemima', 'captain harville', 'a captain wentworth', 'little charles', 'mrs harville', 'camden place', \"mrs charles musgrove's\", 'henrietta', 'hamilton', 'basil morley', 'captain benwick', 'mr wentworth', 'shepherd', 'journeys', 'a mrs wallis', 'mary maclean', 'dalrymples', 'larolles', 'isle of wight', 'plymouth', 'brigden', 'baldwin', 'william walter\\nelliot, esq', 'uppercross cottage', 'mrs charles musgrove', 'mrs rooke', 'archibald', 'north yarmouth', 'charles', \"elizabeth elliot's\", 'miss elliot', 'james benwick', 'viscountess dalrymple', 'mr elliot', 'sarah', 'elliot', 'laconia', 'mackenzie', 'mrs hayter', 'atlantic', \"mrs smith's\", 'hitherto', 'croft', 'marry anne', 'grappler', 'cottage', 'kellynch lodge', 'wallis', 'could anne', 'god', 'lady russell', 'the east indies', 'louisa musgrove', 'charles smith', 'moment--', 'mary coarse', 'harvilles', 'miss musgrove', 'james', 'captains wentworth', 'nurse rooke', 'himself!--she', 'somersetshire', 'wentworth', 'bath', 'mrs clay', \"captain wentworth's\", 'the octagon room', 'mrs frankland', 'captain wentworth', 'anne elliot']\n",
            "['bella', 'wingfield', 'town;--', 'emma woodhouse', 'weston;--', 'knightley--\"i', 'fairfax', 'elton', 'abbey-mill farm!--_you', 'cox', 'room,--\"i', 'papa', 'lover', 'her.--\\nwell', 'eltons', 'jane bates', 'the john knightleys', 'elton?--', 'now?--has', 'woodhouse?--i', 'augusta', 'robert', 'miss woodhouse--', 'richard?--', '&c.  ', \"frank\\nchurchill's\", 'weston?--to bath', 'harry', 'donwell abbey', 'the frank churchill', 'coles', 'william cox', '&c.', 'garrick', 'anne cox', 'knightley!--how', 'miss smith!--i', \"goddard's--\", 'randall', 'oftentimes', '--clara partridge', 'partridge', 'jeffereys', 'rule--', 'frank churchill.--he', \"harriet smith's\", 'miss f.', 'elton, harriet', 'sufficient.--\\nemma', 'miss', 'woodhouse', 'michaelmas', 'donwell lane', 'augusta hawkins', 'knightley.--they', 'martin', 'langham', 'clifton', 'goldsmith', 'abbey', \"elizabeth martin's\", 'secresy?--the campbells', 'expressions;--', 'girl--', 'highbury', 'john knightley', 'hawkins', 'captain weston', 'george', 'finesse', 'pleased!--she', 'perry?--has', 'frank\\nchurchill', 'yorkshire', 'green', 'enscombe', 'enjoy.--she', 'box hill--', 'her;--william coxe', 'amazing!--i am', 'ford', 'broadway lane', \"miss smith's\", 'elizabeth', 'william larkins', 'dear jane', 'suckling', 'james cooper', \"john abdy's\", \"la baronne d'almane\", 'philip', 'highbury;--', 'john saunders', 'elizabeth martin', 'john knightley)--your', 'welch', 'john\\n', 'smallridge', 'goddard', 'gilbert', 'mrs', 'tupman', 'emma herself.--the', 'campbell', 'john knightley.--this', 'cole--', 'churchill--', \"miss bates's\", 'w.', 'low.--frank churchill', 'him.--william', 'her.--\\nemma', 'miserable;--', 'recollect?--harriet smith', 'weston', 'william', 'dear harriet!--i', 'a harriet smith', 'knightley.--were', 'john\\nknightley', 'looks!--i', 'himself.--harriet smith', 'a jane fairfax!--harriet', 'son', 'abbey-mill', 'miss\\nbates', 'taylor', 'would jane', 'randalls', 'jane\\nfairfax', 'finis\\n', 'vicarage lane', 'emma', 'ford.--', 'stokes', 'congratulations.--\\nharriet', 'kitty', 'hodges', 'elton!--', 'woodhouse?--i am', 'her?--you', 'well--', 'aunt emma', 'hymen', 'escape', 'woodhouses', 'bad.--he', \"la comtesse d'ostalis\", \"miss taylor's\", 'miss woodhouse', 'miss\\nsmith', 'e.', 'midsummer', 'miss hawkins,--i', 'brunswick square;--and', 'maple grove', 'thought!--she', 'yorkshire friend--', \"frank churchill's\", 'jane fairfax--', 'frank churchill?--', 'frank churchill', 'smiths', 'westons', 'before--\"you', 'quarter:--robert martin', 'weston?--judge', 'bates', 'henceforward', 'hughes', 'richmond', 'eyes.--emma', 'patty', 'henry', 'knightley?--who', 'mickleham', 'miss churchill', 'harriet\\nsmith', 'knightley.--\"emma', \"humph--harriet's\", 'south end', 'dixon', 's.', 'harriet smith', 'to!--no', 'knightley!--i', 'george otway', 'miss prince', 'harriet said--', \"robert martin's\", 'smith', 'miss richardson', 'selina', 'graham', 'churchill', 'donwell', 'john loves emma', 'out.--he', 'chaperon', 'catherine', 'miss campbell', 'john ostler\\n', 'robert\\nmartin', 'she;--\"we', 'by?--i', 'harriet!--it', 'miss taylor', 'asparagus--', 'perry', 'miss\\nwoodhouse', 'shakespeare', 'miss smith', 'harriet, harriet', 'consciousness.--miss taylor', 'jane', 'perrys', 'lady patroness', 'tom', 'tricks!--i', 'cheerful--', 'churchill--\\n`', 'miss hawkins', 'knightley', 'richard?--i', 'small--', 'no\"--and emma', 'looks--`mr', 'themselves.--emma', 'robert martin', \"farmer mitchell's\", 'miss bates', 'anna weston', 'woodhouse--\"yes', 'knightley;--and', 'jane fairfax', 'near--\"miss bates', 'william coxe--', 'uncle knightley', 'jane declares--', 'you?--mrs', 'heart!--she', 'fairfax owes--', 'astley', 'a robert martin', 'jane?--\\n`', \"william larkins's\", 'baly-craig', 'miss bickerton', 'martin--', 'bird', 'miss nash', 'up!--\\njane, jane, look!--did', \"jane fairfax's\", 'hannah', 'frank', 'cole', 'her.--\\nshe', 'sposo', 'hitherto', 'isabella', 'yesterday.--harriet', \"john\\nknightley's\", 'miss woodhouse?--\\ntill', 'me?--i', 'little emma', 'surry', 'may', 'wallis', 'wright', 'her.--', 'miss\\n', \"john knightley's\", \"ma'am?--and\", 'jane at weymouth', 'come emma', 'otway', \"jealousy.--in jane's\", 'knightleys', 'kings weston', 'she--`i', 'knightley.--\"robert', 'miss w.', \"a robert martin's\", 'james', 'nash', 'john', 'bath', 'harriet\\n', 'bragge', 'soft', 'discerning;--', 'harriet', 'me!--i', 'herself.--robert martin']\n",
            "Dickens Entities\n",
            "['oliver', 'jew', 'bartholomew', 'chancery lane', 'vi', 'jonah', 'parthenon', 'highlander', 'john bull', 'capet', 'the bay of arisaig', 'montrose', 'south', 'the middle ages', 'clapham', 'drake', 'professor', 'the south sea', 'holyoake', 'king\\nwilliam', 'nietzsche', 'virgin mary', 'james turnbull', 'albert memorial', 'employ', 'arthur', 'quayle', 'xv', 'pierre durand', 'zoological gardens', 'project gutenberg', 'phrase', 'cumberland vane', 'queen victoria', 'diana', 'westminster abbey', 'balkans', 'laughter', 'kensit', \"john bull's\", 'louis xi', 'handsome', 'james\\nturnbull', 'george', 'brunswicks', 'maida vale', 'michael', 'blucher', 'buck', 'james douglas', 'german ocean', 'magdalen don', 'defect', 'cruel assyrian', 'discipline', 'elizabeth', 'wren', 'i.', 'queen anne', 'madeleine', 'ludgate hill', 'monte carlo', 'sho', 'saviour', 'highlands', 'gibson girl', 'homeric', 'vane', 'massacre', 'ben crowder', 'londoner', 'hitherto turnbull', 'durand', 'cheapside', 'lucifer', 'bradlaugh', 'schopenhauer', 'argyllshire', 'henry gordon', 'jones', \"al turnbull's\", 'elijah', 'grandfather', 'beatrice drake', 'central time', 'yeomanry', 'gotham', 'celt', 'europe', \"st. paul's\", 'gibson', \"project gutenberg's\", 'the catholic middle ages', 'this--', 'south sea', 'mile', 'godwin', 'james russell lowell', 'edward', 'lancelot', 'margate', 'turnbull', 'inn', 'agapemonites', 'count gregory', 'cameron', 'west', 'jim', 'hampstead', 'western bulgaria', 'joan of arc', 'project gutenberg literary archive foundation', 'mary', 'abelard', 'nestorius', 'the phoenix park', 'religion', 'richard', 'shelley', 'blessed', 'ruskin', 'africa', 'lane', 'm. bert', 'camille', 'rum', 'galahad', 'bert', 'lyonesse', 'project gutenberg-tm', 'idee fixe', 'natura naturans', 'moses solomon', 'jahveh', 'daily telegraph', 'the holy island', 'bush', 'jupiter', 'tolstoy', 'paradise', 'gordon', 'waterloo', 'beaune', 'swinburne', 'm. camille bert', 'wimpey', 'norman', 'ken whar', 'm.\\nbert', 'bonaparte', 'transvaal', 'hush', 'evan', 'south sea island', 'shakespeare', 'voltaire', 'jimmy', 'the leaden sea', 'xi', 'robinson crusoe', 'hart', 'jesus christ', 'evan stuart', 'noah', 'project gutenberg ebooks', 'jacobite', 'the south sea islands', 'law', 'wilkinson', 'queen', 'macian', 'shaw', 'vae victis', 'catholic saint', 'anatole france', 'gael', 'evan macian', 'majesty', 'charles', 'hutton', 'tom paine', 'spike', 'adam', 'michael hart', 'sidney', 'atlantic', 'damn nature', 'fate', 'derwentwater', 'protoplasm', 'camille bert', 'hertz', 'madeleine durand', 'eden', 'whimpey', 'michael s. hart', 'camille burt', 'altiora', 'home rule', 'bruno', 'james', 'virgin', 'evan\\nmacian', 'jack the ripper', 'price', 'bid', 'cabby', 'appeal rang', 'mais oui', 'zolas']\n",
            "['walter pendragon', 'pooley', 'wilson', 'don juan', 'dr hirsch', 'etta todd', 'signorina', 'carstairs', 'cray', 'the pacific islands', 'pierrot', 'vi', 'kew gardens', 'george herbert', 'doom', 'hedwig', 'merlin', 'epsom', 'isaac green', 'drake', 'muscari', 'walter', 'clemenceau', 'the arabian nights', 'the saloon bar', 'audrey', 'gongs', 'mull', 'grossenmark', 'patrick butler', 'davis', 'arthur', 'kidd', 'mr harrogate', 'sherry', 'dubosc', 'gauls', 'rome', 'henry james', 'romeo', 'm. brun', 'nutt', 'noiseless powder', 'hawkins', 'brown', 'simon', 'cenci', 'marconi', 'greenwood usher', 'todhunter', 'santa maria', 'armagnac', \"st george's\", 'green', 'yorkshire', 'oscar rian', 'devon', 'treason', 'nigger ned', 'nelson', 'peter', 'cousin oliver', 'alraschid', 'grimm', 'thinker boulnois', 'jove', 'elizabeth', 'oberon', 'the cannibal islands', 'thumb', 'miller', 'philip', 'carr', 'harvey', 'chin', 'walter cowdray', 'arnhold', 'the north sea', 'samuel harrogate', 'beauty', 'frenchmen', 'mrs', 'greatest conjurer', 'mr usher', 'seymour', 'bedlam', 'birmingham', 'marseillaise', 'paul hirsch', 'the duc de valognes', 'jones', 'malvoli', 'prince otto', 'himalayas', 'dante', 'frank harrogate', 'wagga wagga', 'william james', 'boulnois', 'e. nutt', 'hood', 'europe', 'paul', 'schwartz', 'pacific islands', 'darwin', 'south sea', 'maggie', 'm. dubosc', 'maurice brun', 'duke', 'hirsch', 'malvoli--', 'critic boulnois', 'paul arnhold', 'mediterranean', 'jules dubosc', 'duffey', 'wandsworth', \"millionaire todd's\", 'arthur carstairs', 'pendragon', 'surrey', 'philip hawker', 'fanshaw', 'daily reformer', 'zaladin', 'kent', 'queen elizabeth', 'leeds', 'max beerbohm', 'miss harrogate', 'ethel harrogate', 'mrs boulnois', 'shelley', 'haman', 'marco', 'watson', 'putney', 'the dark ages', 'ezza', 'cockney', 'brighton', 'st john', 'willie', 'todd brutally', 'cutler', 'cecil fanshaw', 'aurora', 'audrey watson', 'ethel', 'aurora rome', 'st michael', 'drugger davis', 'james i', 'giles', 'swinburne', 'could--', 'camille desmoulins', 'macnab', 'downs', 'todd', 'dr hood', 'expected--', 'bismarck', 'canary', 'robin hood', 'catastrophist', 'pond', 'ireton todd', \"calhoun kidd's\", 'maggie macnab', 'overbury', 'harrogate', 'mrs macnab', 'xi', 'the western sun', 'glamis', 'darwin chews dirt', 'noah', 'elisha', 'mr brown', 'leonardo da vinci', 'signor muscari', 'arranged freak dinner', 'wilson seymour', 'dickens', 'putnam', 'claude champion', 'futurist', 'miss barlow', 'king midas', 'james dalroy', 'greywood usher', 'existence', 'psychometric machine', 'oliver oman', 'hull', 'otto of', 'croat', 'mr boulnois', 'glass', 'brun', 'peter pendragon', 'mr finn', 'voodoo', 'mr butler', 'yorkshireman', 'frances howard', 'ezza montano', \"claude champion's\", 'pacific', 'atlantic', 'finn', 'barlow', 'the temple gardens', 'frank', 'montano', 'sun', 'hitherto', 'thy', 'isidore bruno', 'captain cutler', 'james todhunter', 'marie antoinette', 'edward nutt', 'calhoun kidd', 'mr glass', \"mr swinburne's\", 'flambeau', 'glencoe', 'john boulnois', 'browns', 'bruno', 'proud', 'juliet', 'monsieur', 'v. the mistake', 'james', 'otto', 'mrs macnabs', 'grey cottage', 'mummy', 'john', 'luxury', 'm. armagnac', 'hedwig von', 'dr mull', 'judas', 'claude', 'gravelotte', 'man']\n",
            "Shakespeare Entities\n",
            "['neptune', 'lady fame', 'hath leonato', 'thou hold’st', 'counter', 'enter john', 'bottom', 'thou kill’st', 'sweet bianca', 'enter titania', 'procrus', 'tis lodovico', 'presenteth moonshine', 'exit mistress page', 'don pedro', 'limander am', 'hydra', 'o jove', 'jeshu', 'tyre', 'exeunt duke', 'lust', 'diana', 'ho', 'don', 'honest iago', 'merit purchaseth', 'slender', 'exit caius', 'exit an attendant', 'propontic', 'brook', 'jove', 'niece', 'garter', 'cobweb', 'antonio', 'peter\\nquince', 'scene i. on', 'scene v. another room', 'mytilene', 'cupid', 'emilia', 'thou know’st', 'scene iii', 'wall', 'waking', 'scene iv', 'solicit', 'lodovico', 'thou driv’st', 'scene i. tarsus', 'dream', 'signior montano', 'exit helena', 'borachio', 'europa', 'thorny', 'enter montano', 'sblood', 'fetch desdemona', 'confirm’d', 'kill claudio', 'muse', 'ninny', 'lady', 'peaseblossom', 'tarry', 'exit moonshine', 'the pontic sea', 'exit thaliard', 'thou leap', 'joy', 'bush', 'aurora', 'flute', 'bucklersbury', 'lest', 'jill', 'scene v.\\nanother room', 'hop', 'caius', 'weed', 'evans', '&c.\\n\\n', 'conrade', 'marcus luccicos', 'the garter inn', 'wounds iago', 'mytilene\\nscene ii', 'hugh evans', 'bull jove', 'exit montano', 'good master ford', 'chid', 'enter thaliard', 'balthasar', 'enter bardolph', 'holla', 'galen', 'montano', 'bel', 'friar francis', 'enter lysander', 'benedick', 'hath', 'exit demetrius', 'exit falstaff', 'carpenter', 'dogberry', 'philemon', 'mummy', 'cassio', 'john', 'fenton', 'behold', 'meg', 'attendant', 'shine', 'queen of the fairies', 'jew', 'hugh oatcake', 'exeunt iago', 'm”!—fie', 'thou anon', 'goliath', 'chorus', 'worthy othello', 'robert', 'datchet lane', 'exit rugby', 'good hermia', 'phoebe', 'benedictus', 'alack', 'exit roderigo', 'exit clown', 'exit lysander', 'damn', 'exeunt desdemona', 'eld\\nreceived', 'exit pericles', 'kneels', 'signior\\nbenedick', 'fetter', 'quod', 'snug', 'pat', 'mislead night-', 'exeunt theseus', 'awake', 'have’t', 'call’d roderigo', 'exit robin', 'buck', 'martyrs', 'exit ford', 'strike', 'moor othello', 'thou beliest', 'oberon', 'exit emilia', 'servant', 'lion', 'mistress ford', 'honi soit qui mal y', 'stabs', 'robin goodfellow', 'gentle', 'exeunt host', 'antipodes', 'o—_vocativo_—o', 'sweet moon', 'lysander', 'hollander', 'diana at ephesus\\nscene iii', 'exit fenton', 'transparent helena', 'william', 'exit snout', 'exeunt john', 'sirrah', 'barbary', 'exit hermia', 'moor', 'trojan', 'asia', 'fairy\\nmoth', 'king stephen', 'nay', 'beshrew', 'cavalery cobweb', 'coward', 'exeunt clowns', 'roderigo', 'scene vi', 'exit host', 'moth', 'scene i.\\nathens', 'scene i.', 'hermia', 'tarsus', 'john falstaff', 'tailor', 'thisbe', 'falls', 'cerimon', 'kinsman', 'exit philostrate', 'herne', 'exeunt oberon', 'master fenton', 'margaret', 'florentine', 'marry', 'enter leonato', 'thou', 'good brabantio', 'pray', 'fate', 'thou shalt', 'signior benedick', 'ethiope', 'bade', 'exit simple', 'anon', 'signior angelo', 'crystal', 'signior mountanto', 'leonato', 'lapis', 'nick bottom', 'thou hast', 'good margaret', 'de jarteer', 'search windsor', 'fair beatrice', 'master shallow', 'master brook', 'hobgoblin', 'ottoman', 'anne', 'tis', 'venetian gentleman', 'exeunt othello', 'worthy montano', 'saint valentine', 'anne page', 'wolf', 'diana at ephesus\\n\\n\\n\\n\\n dramatis personæ', 'beatrice', 'quince', 'exit margaret', 'exeunt prologue', 'east', 'enter page', 'sleeps', 'give’t iago', 'ford', 'exeunt musicians', 'thy lover', 'aloud', 'gentle master fenton', 'good george', 'francis seacoal', 'quail', 'antiochus', 'slid', 'gower', 'arise', 'eton', 'prince john', 'signior claudio', 'doth', 'duke', 'signior brabantio', 'exit bardolph', 'pharaoh', 'scene i.\\n', 'pleasant’st', 'friar', 'exit evans', 'exeunt shallow', 'great jove', 'song', 'scene v. mytilene', 'george seacoal', 'host de jarteer', 'knitteth', 'jupiter', 'disparage', 'till fortune', 'scene v. pentapolis', 'a duke de jamany', 'saint peter', 'farewell', 'exit', 'whenas', 'enter oberon', 'hugh', 'exeunt page', 'enter benedick', 'aegles', 'enter othello', 'com’st thou', 'qui', 'murder', 'be’t', 'whereon', 'nominativo', 'verges', 'signior leonato', 'jacks', 'dramatis personæ', 'monsieur cobweb', 'thou dissembler', 'gripe', 'falstaff', 'beat', 'philomel', 'sweet', 'knight', 'un paysan_', 'stabs roderigo', 'marina', 'peter quince', 'exeunt wall', 'lulla', 'signior benedick’s', 'striking roderigo', 'bid', 'exit mistress ford', 'signior antonio', 'helicanus', 'bardolph', 'robin', 'exit oberon', 'leander', 'egeus', 'lov’d benedick', 'lady beatrice', 'knavery', 'thou shalt\\n', 'high.—ha', 'exit titania', 'moon', 'exit mistress quickly', 'thaliard', 'exit puck', 'iago', 'don john', 'master\\nbrook', 'michael', 'nan', 'enter iago', 'nod', 'eve', 'merry', 'devil', 'exit desdemona', 'simonides', 'further.—master fenton', 'theseus', 'mistress anne', 'jack', 'parson', 'scene i. pentapolis', 'desdemona', 'enter helena', 'sweet prince', 'valiant othello', 'huius', 'exeunt ford', 'son', 'fairy\\ncobweb', 'anne\\npage', 'tom snout', 'exeunt lysander', 'daughter', 'jack rugby', 'francis flute', 'blest fig’s', 'discern’st thou', 'thou hast\\nmettle', 'prodigal', 'master slender', 'fairy\\nmustardseed', 'fairy\\n\\n', 'jack-a-lent', 'exit cassio', 'unworthy', 'thou cunning’st', 'tis emilia', 'puck', 'sweet desdemona', 'claudio', 'daughter to leonato', 'lo', 'sees helen’s', 'gore', 'margaret hero', 'begot', 'john rugby', 'fetch’t', 'lysander\\nhelena', 'sleep thou', 'titania', 'enter puck', 'scene ii', 'wherein', 'venus', 'rhodes', 'welsh', 'enter bottom', 'moonshine', 'michael cassio', 'genitive', 'sweet beatrice', 'mark', 'enter falstaff', 'kneeling', 'exit iago', 'queen', 'robin starveling', 'nan page', 'signior sooth', 'scene i.\\nleonato', 'gaul', 'thou hast murder’d him', 'page', 'claudio\\nhave', 'adam', 'messenger', 'lady tongue', 'lysander\\ndeny', 'shallow', 'lady disdain', 'ere', 'anthony', 'tush', 'enter messenger', 'god', 'exit gentleman', 'enter fenton', 'desdemon']\n",
            "['naughty', 'sweet lord longaville', 'sign’d', 'exeunt gloucester', 'julietta', 'ben venuto', 'master moth', 'scene ix', 'exit messenger', 'maccabaeus', 'antony dull', 'tis banquo', 'acquaint', 'bessy', 'south', 'bastard', 'metellus cimber', 'peter of pomfret', 'exit moth', 'ill', 'young arthur', 'enter king\\nlear', 'thou saucy', 'know’st\\nfools', 'exeunt duke', 'oui', 'fleance', 'volumnius', 'ho', 'strong', 'diana', 'abbey', 'macduff', 'sardis', 'item', 'thunder', 'yield', 'aquitaine', 'julius caesar', 'loo loo!', 'slender', 'alice shortcake', 'exit an attendant', 'laus deo', 'exit a knight', 'messala', 'enter pandulph', 'good master froth', 'brook', 'scene i. a heath\\nscene ii', 'jove', 'haud\\ncredo', 'banquo\\nstick', 'garter', 'jude', 'hagar', 'methought', 'enter kent', 'philip', 'caelo', 'norways', 'froth', 'antonio', 'cornwall', 'labeo', 'don adriano de\\n', 'marcadé', 'master elbow', 'sackerson', 'jasons', 'thou marshall’st', 'beauty', 'enter octavius', 'builds', 'exit duke', 'west indies', 'alice ford', 'marcus cato', 'chirrah', 'thou know’st', 'exit isabella', 'solanio', 'lord bigot', 'exeunt lear', 'scene iv', 'person', 'thou conclud’st', 'mum', 'lincoln washes', 'quoniam', 'bold', 'gelida quando pecus', 'stephano', 'midas', 'enter brutus', 'friar peter', 'liar', 'exit a servant', 'lady', 'sister', 'philippi', 'tarry', 'enter dull', 'legitimate edgar', 'the thane of cawdor', 'enter seyton', 'exit cicero', 'kent', 'worthies', 'gramercy', 'act v\\nscene i. belmont', 'richard', 'knock', 'pushes oswald', 'exit costard', 'jessica', 'monsieur marcadé', 'sinful macduff', 'husband', 'exeunt solanio', 'joy', 'purchase', 'vouchsafe', 'i. signior costard', 'witches', 'lege', 'thou shalt marry', 'jaquenetta', 'exit murderer', 'thou keep’st', 'jill', 'enter nerissa', 'enter antonio', 'harp', 'salerio', 'enter cornwall', 'caius', 'evans', 'attendants', 'mephostophilus', 'abraham', 'joshua', 'thither macduff', 'fellow', 'oswald', 'monarcho', 'longaville, dumaine, berowne and attendants', 'guilty', 'enter longaville', 'thou goest', 'æson', 'hugh evans', 'elbow', 'standeth north-north-east', 'thou fellow', 'pompey', 'exit cassius', 'exit boy', 'doth arthur', 'royal lear', 'charles', 'king philip', 'combine', 'sweet majesty', 'falstaff\\nbardolph', 'dover\\nscene ii', 'enter ross', 'alcides', 'err', 'titinius', 'thou hast misconstrued', 'enter bardolph', 'holla', 'exit attendant', 'sanguis_', 'master launcelet', 'don armado', 'octavius', 'humh', 'signior lucio', 'nerissa\\n ', 'abhorson', 'hath', 'giving kent', 'knocks', 'noble antony', 'proud', 'juliet', 'know’st', 'robert shallow', 'ding', 'enter escalus', 'good hubert, hubert, hubert', 'guiltier', 'master\\nfenton', 'john', 'uncle', 'mariana', 'thou melancholy', 'enter abhorson', 'soft', 'croak', 'judas', 'behold', 'ates', 'scene v. inverness', 'macbeth', 'seyton', 'cressid', 'base phrygian turk', 'triumvir', 'meg', 'thane of glamis', 'roof’d', 'bassanio', 'gaoler', 'jew', 'shylock the jew', 'enter lucius', 'speak', 'delay', 'lord brutus', 'gainst', 'exit rugby', 'allow', 'alack', 'arthur', 'whether bassanio', 'lady blanche', 'enter costard', 'monsieur judas', 'exeunt mariana', 'ross', 'tis cinna', 'mightst', 'fauste precor', 'navarre', 'pat', 'exit banquo', 'trumpet', 'george', 'exit hecate', 'tu-whoo', 'pluck', 'claudio\\nlucio', 'mantuan', 'peter', 'strike', 'jaques falconbridge', 'exeunt portia', 'enter lear', 'slubber', 'i.', 'alarum', 'lucio', 'louis', 'servant', 'aeneas', 'mahu', 'lamentings', 'tarry here.—by', 'shall', 'lady rosaline', 'mediterraneum', 'gentle', 'exeunt host', 'saint luke’s', 'scene v. fields', 'sweet isabel', 'regard titinius', 'launcelet gobbo', 'antipodes', 'thrice', 'exit cinna', 'caesar', 'sweet portia', 'exit fenton', 'thou varlet', 'malcolm', 'frank ford', 'hewgh', 'gentlewoman', 'bethink', 'sirrah', 'exit poet', 'good costard', 'nathaniel', 'trojan', 'kate', 'great dunsinane', 'neapolitan', 'enter\\ncaesar', 'bench', 'exit stephano', 'exit regan', 'exit an officer', 'brabant', 'ruminat', 'marullus', 'regan', 'beware macduff', 'beggar', 'thus kent', 'andrew dock’d', 'nay', 'dardanius', 'thou lamb', 'kills', 'copperspur', 'wilt thou', 'king john', 'beshrew', 'claudio\\nfrancisca', 'enter king john', 'prince', 'angus', 'lucius pella', 'artemidorus', 'dobbin', 'pulling\\nsimple', 'proclaim', 'popilius lena', 'lear', 'exeunt citizens', 'dick', 'exit berowne', 'good portia', 'worthy macbeth', 'salarino', 'thou knowest', 'cassius\\nare', 'lorenzo', 'scene vi', 'throbs', 'advertising', 'tom o’bedlam.—o', 'mean’st', 'exit host', 'moth', 'scene i.', 'scene i. forres', 'exeunt falstaff', 'sardis\\n scene iii', 'scene i. dunsinane', 'tubal', 'thou whoreson', 'enter boyet', 'exeunt cassius', 'john falstaff', 'thisbe', 'glamis', 'ingratitude', 'omne bene', 'falls', 'exit lady macduff', 'friar lodowick', 'exit arragon', 'exeunt antony', 'hautboys', 'lord bassanio', 'berowne', 'good master brook', 'antonio bound', 'call burgundy', 'longaville', 'thane of cawdor', 'marry', 'thou', 'hesperides', 'exit hubert', 'katharine', 'jessica\\nshylock', 'modo', 'great glamis', 'tiber', 'thou shalt', 'enter edgar', 'gardon', 'frank', 'strato', 'mark antony', 'thou bidd’st', 'exeunt escalus', 'ethiope', 'metellus', 'joan', 'sessa', 'exeunt goneril', 'larron', 'enter gentleman', 'gives bassanio', 'exit simple', 'lobby', 'dauphin', 'lorenzo\\ndesired', 'anon', 'pandulph', 'struck caesar', 'thomas tapster', 'oracle', 'thou hast', 'bleed’st', 'enter gloucester', 'enter lorenzo', 'scene i. venice', 'exit casca', 'exit elbow', 'exit pistol', 'golgotha', 'goodnight', 'tell master parson evans', 'anne', 'thou dar’st', 'tis', 'chus', 'i.\\n', 'braggart', 'exit friar peter', 'exit lucius', 'burgundy', 'brutus', 'eleanor', 'anne page', 'unmuffles claudio', 'physician', 'thou shin’st', 'exit holofernes', 'wolf', 'please’t', 'austria', 'exeunt clitus', 'haud credo', 'enter shylock', 'michaelmas', 'choose caesar', 'giving king', 'angelo', 'marquis', 'caius ligarius', 'pierce', 'east', 'judas maccabaeus', 'hath cassius', 'whispering', 'exit macduff', 'simple', 'exeunt octavius', 'dun adramadio', 'treason', 'again.—pray', 'ford', 'kin thou', 'crassus', 'master starve-lackey', 'dan cupid', 'exit froth', 'enter nathaniel', 'fortune', 'exeunt moth', 'to angelo', 'consisteth', 'scene v. a room', 'exit angelo', 'fenton\\nwilliam page', 'horace', 'thou gav’st thy golden one', 'maugre', 'exeunt salarino', 'lichas', 'thou fortune’s', 'et tu', 'improper', 'nearest', 'gentleman', 'than aquitaine', 'sayst', 'portia', 'young', 'arise', 'fortuna de la guerra', 'melun', 'exeunt kent', 'achilles', 'beg', 'scene v.', 'cave', 'signior claudio', 'doth', 'lord angelo', 'exit brutus', 'solomon', 'duke', 'hybla', 'edward', 'john falstaffs', 'exit bardolph', 'bum', 'good master parson', 'friar', 'enter servant', 'goneril', 'roman', 'thou wretch', 'jug', 'nobleman', 'bellona', 'scene i. a', 'sabbath', 'jacob', 'margery', 'drop', 'tut', 'bliss', 'tom', 'flavius', 'exit longaville', 'exit oswald', 'antony', 'us.—hark!—i', 'pomfret', 'pope innocent', 'gentle isabella', 'marcus antonius', 'actaeon', 'exit bastard', 'costard', 'frederick', 'exeunt king', 'jupiter', 'assaults banquo', 'dramatis personæ\\n\\n', 'caius cassius', 'hail', 'kill brutus', 'brutus antony', 'to bassanio', 'doth lear', 'shylock\\nold gobbo', 'great hercules', 'exit francisca', 'exeunt angelo', 'slice', 'enter portia', 'wench', 'nerissa', 'enter hubert', 'exit cornwall', 'unum\\ncita', 'giddy', 'hugh', 'exit nym', 'renege', 'genoa', 'earl of gloucester', 'quondam', 'look’st thou pale', 'nestor', 'ghost', 'exeunt caesar', 'act iv\\nscene i. venice', 'saint denis', 'baldpate', 'lucilius', 'sennet', 'king cophetua', 'fillet', 'goodly lord', 'exit boyet', 'be’t', 'queen\\nguinevere', 'exit servant', 'hobbididence', 'hugh the welsh', 'dar’st', 'matchless navarre', 'louis himself.—so', 'nam’d', 'dramatis personæ', 'imitari', 'fair portia’s', 'falstaff', 'wilt thou revenge', 'thou receivest', 'isabella', 'melancholy', 'armado', 'exit edmund', 'lady brach', 'sweet', 'duncan', 'hound', 'fellow thou', 'knight', 'sirrah costard', 'lady macbeth', 'hysterica', 'bid', 'tears out gloucester', 'resolveth', 'signior antonio', 'exeunt dull', 'robin', 'thou swor’st', 'earl', 'exeunt costard', 'exit portia', 'exeunt france', 'exeunt edmund', 'enter angelo', 'minime', 'to edgar', 'qualm', 'exit gratiano', 'cato', 'scene i. a room of state', 'worthy', 'juno', 'exeunt elbow', 'yed miller', 'satis quod', 'sweet bassanio', 'discard', 'i. ha', 'don adriano de armado', 'thou bor’st', 'mount', 'enter bassanio', 'enter solanio', 'scene v. dunsinane', 'enter macbeth', 'master froth', 'qu’ay j’oublié', 'octavius caesar', 'mars', 'enter goneril', 'pillicock hill', 'exit claudio', 'sway’d', 'to goneril', 'sweet lamb', 'exeunt banquo', 'hubert', 'lady macduff', 'vat', 'keiser', 'flourish', 'exit bigot', 'boyet', 'o regan', 'exit provost', 'good king', 'exit messala', 'cassius', 'monsieur berowne', 'ligarius', 'thou hast one', 'stephen langton', 'exeunt lucio', 'comfort', 'kneel', 'mistress anne', 'lucifer', 'jack', 'quis', 'mark antony’s', 'villain', 'birnam', 'frateretto', 'parson', 'barnardine', 'gloucester', 'sweno', 'madman', 'bad', 'exeunt isabella', 'enter duke', 'sirrah claudius', 'king\\npepin', 'son', 'exit shylock', 'exit captain', 'george page', 'enter constance', 'exit launcelet', 'damosella virgin', 'helm thy state', 'signior bassanio', 'prince lucifer', 'lucius', 'edgar', 'antonius\\nsend', 'mend', 'fe', 'grandam', 'spit', 'macdonwald', 'tooth', 'je', 'jack rugby', 'enter moth', 'exit lepidus', 'exeunt murderers', 'belzebub', 'marcus\\nbrutus', 'edmund', 'pedant', 'forc’d', 'nym', 'trey', 'alas', 'thy brutus', 'tenant', 'enter malcolm', 'to antonio', 'ratolorum', 'i. go', 'grace', 'grey beard', 'ovidius naso', 'exit anne page', 'thou hast done', 'bin', 'claudio', 'pell-mell', 'charybdis', 'thou mightst', 'misplac’d john', 'lo', 'holofernes', 'exeunt lucilius', 'sing', 'tis caesar', 'convert', 'gore', 'enter antony', 'siward', 'john rugby', 'royal king', 'signior antonio\\ncommends', 'thou bloodier', 'dover castle', 'exeunt jessica', 'shylock\\n\\nmagnificoes', 'lurk', 'citizens', 'trebonius', 'exeunt boyet', 'jaquenetta a', 'corporal nym.—believe', 'scene ii', 'wherein', 'blow', 'venus', 'donalbain', 'the king', 'welsh', 'exit gloucester', 'enter flavius', 'devilish macbeth', 'hear antony', 'zenelophon', 'ergo', 'tarquin', 'exeunt executioners', 'leaps', 'burgundy\\ncan', 'timon', 'varro', 'ere thou shalt', 'mark', 'briefly', 'kneeling', 'monsieur le bon', 'arabia', 'queen', 'brutus\\nhath', 'exit edgar', 'bellario', 'clerk', 'goodwins', 'sultan solyman', 'thither', 'metheglin', 'whipp’st', 'sibylla', 'page', 'adam', 'thou hang', 'messenger', 'leonardo', 'maria', 'shallow', 'graymalkin', 'canst thou', 'stain', 'lepidus', 'shylock', 'exeunt worthies', 'friar thomas', 'aloof', 'ere', 'geoffrey', 'tush', 'renowned pompey', 'thou hast obtain’d', 'cursed’st', 'exeunt abhorson', 'lady constance', 'god', 'thou perjur’d', 'sleepest', 'tell antony', 'conspiracy', 'banquo', 'balm', 'decius brutus', 'abraham slender', 'marcus brutus', 'spoke', 'thou bear’st', 'slender\\nfenton', 'enter elbow', 'exit gentleman', 'thou heat’st', 'cerberus', 'vir sapit', 'enter fenton', 'casca', 'peter simple']\n"
          ]
        }
      ],
      "source": [
        "print('Austen Entities')\n",
        "print(au_ent_test)\n",
        "print(au_ent_train)\n",
        "print('Dickens Entities')\n",
        "print(dickens_ent_test)\n",
        "print(dickens_ent_train)\n",
        "print('Shakespeare Entities')\n",
        "print(sh_ent_test)\n",
        "print(shakespeare_ent_train)"
      ]
    },
    {
      "cell_type": "code",
      "execution_count": null,
      "metadata": {
        "id": "T-lkUH69UTFG"
      },
      "outputs": [],
      "source": [
        "# import spacy\n",
        "\n",
        "# def extract_entities_sh(text):\n",
        "#     # Load spaCy model for NER\n",
        "#     nlp = spacy.load(\"en_core_web_sm\")\n",
        "\n",
        "#     # Process the text with spaCy NER\n",
        "#     doc = nlp(text)\n",
        "\n",
        "#     # Define the set of allowed entity labels\n",
        "#     allowed_labels =  {\"PERSON\", \"LOC\"}\n",
        "#     # Extract entities and filter them based on allowed labels and PROPN type\n",
        "#     entities = {ent.text.lower() for ent in doc.ents if ent.label_ in allowed_labels and any(token.pos_ == \"PROPN\" for token in ent)}\n",
        "\n",
        "#     return list(entities)\n",
        "\n"
      ]
    },
    {
      "cell_type": "code",
      "execution_count": null,
      "metadata": {
        "id": "6SWIVos1k-KR"
      },
      "outputs": [],
      "source": [
        "def combine_lists(list1, list2, list3):\n",
        "    combined_list = list1 + list2 + list3\n",
        "    unique_elements = list(set(combined_list))  # Convert to set to remove duplicates, then back to list\n",
        "    return unique_elements"
      ]
    },
    {
      "cell_type": "code",
      "execution_count": null,
      "metadata": {
        "id": "7x6mQ1IZk_Vs"
      },
      "outputs": [],
      "source": [
        "train_ent = combine_lists(au_ent_train, dickens_ent_train, shakespeare_ent_train)\n",
        "test_ent = combine_lists(au_ent_test, dickens_ent_test, sh_ent_test)"
      ]
    },
    {
      "cell_type": "code",
      "execution_count": null,
      "metadata": {
        "colab": {
          "base_uri": "https://localhost:8080/"
        },
        "id": "opxYilh0lFeM",
        "outputId": "91adfe9a-9f82-407c-d837-374e2268b3cf"
      },
      "outputs": [
        {
          "output_type": "stream",
          "name": "stdout",
          "text": [
            "1343\n",
            "832\n"
          ]
        }
      ],
      "source": [
        "print(len(train_ent))\n",
        "print(len(test_ent))"
      ]
    },
    {
      "cell_type": "code",
      "execution_count": null,
      "metadata": {
        "id": "6m8lgW9z1pvg"
      },
      "outputs": [],
      "source": [
        "#Filtering the training and testing entities further\n",
        "import spacy\n",
        "\n",
        "def filter_proper_nouns(entities):\n",
        "    # Load spaCy model for English\n",
        "    nlp = spacy.load(\"en_core_web_sm\")\n",
        "\n",
        "    # Initialize a set to store filtered entities\n",
        "    filtered_entities = set()\n",
        "\n",
        "    # Process each entity using spaCy\n",
        "    for entity in entities:\n",
        "        doc = nlp(entity)\n",
        "        is_proper_noun = False\n",
        "        for token in doc:\n",
        "            if token.pos_ == \"PROPN\" and (token.ent_type_ == \"PERSON\" or token.ent_type_ == \"GPE\"):\n",
        "                is_proper_noun = True\n",
        "                break\n",
        "        if is_proper_noun:\n",
        "            filtered_entities.add(entity.lower())  # Add lowercased entity to set\n",
        "\n",
        "    return list(filtered_entities)\n"
      ]
    },
    {
      "cell_type": "code",
      "execution_count": null,
      "metadata": {
        "id": "PwpfbgLj1yHJ"
      },
      "outputs": [],
      "source": [
        "train_ent = filter_proper_nouns(train_ent)\n",
        "test_ent = filter_proper_nouns(test_ent)"
      ]
    },
    {
      "cell_type": "code",
      "execution_count": null,
      "metadata": {
        "colab": {
          "base_uri": "https://localhost:8080/"
        },
        "id": "-Umspgv516Hh",
        "outputId": "236b6327-7974-4b0b-bfe1-2fe96c2f36d2"
      },
      "outputs": [
        {
          "output_type": "stream",
          "name": "stdout",
          "text": [
            "319\n",
            "199\n"
          ]
        }
      ],
      "source": [
        "print(len(train_ent))\n",
        "print(len(test_ent))"
      ]
    },
    {
      "cell_type": "code",
      "execution_count": null,
      "metadata": {
        "colab": {
          "base_uri": "https://localhost:8080/"
        },
        "id": "-poKU5gM193R",
        "outputId": "59f13d7e-f69d-4fb2-b7af-49b64c54697c"
      },
      "outputs": [
        {
          "output_type": "stream",
          "name": "stdout",
          "text": [
            "['emma woodhouse', 'ben venuto', 'miss woodhouse--', 'peter of pomfret', 'harry', 'young arthur', 'thou saucy', 'davis', 'kidd', 'anne cox', 'patrick butler', 'donwell lane', 'henry james', 'diana', 'ho', 'john knightley', 'loo loo!', 'oscar rian', 'box hill--', 'nelson', 'scene i. a heath\\nscene ii', 'haud\\ncredo', 'carr', 'don adriano de\\n', 'thou marshall’st', 'john knightley.--this', 'churchill--', 'thou know’st', 'birmingham', 'thou conclud’st', 'frank harrogate', 'quoniam', 'paul', 'gelida quando pecus', 'enter brutus', 'friar peter', 'well--', 'philip hawker', 'philippi', 'max beerbohm', 'miss hawkins,--i', 'act v\\nscene i. belmont', 'frank churchill', 'jessica', 'monsieur marcadé', 'mickleham', 'i. signior costard', 'george otway', 'thou shalt marry', 'st michael', 'selina', 'out.--he', 'thou keep’st', 'robert\\nmartin', \"calhoun kidd's\", 'miss taylor', 'abraham', 'joshua', 'consciousness.--miss taylor', 'thou goest', 'longaville, dumaine, berowne and attendants', 'hugh evans', 'enter longaville', 'standeth north-north-east', 'small--', 'thou fellow', 'doth arthur', 'anna weston', 'william coxe--', 'dover\\nscene ii', 'thou hast misconstrued', 'a robert martin', 'mr finn', 'sanguis_', \"jane fairfax's\", 'don armado', 'humh', 'signior lucio', 'robert shallow', 'mrs macnabs', 'mummy', 'thou melancholy', 'john', 'mariana', 'dr mull', 'base phrygian turk', 'herself.--robert martin', 'scene v. inverness', 'town;--', 'signorina', 'shylock the jew', 'the john knightleys', 'donwell abbey', 'arthur', 'monsieur judas', 'exeunt mariana', 'clifton', 'langham', \"elizabeth martin's\", 'fauste precor', \"st george's\", 'tu-whoo', 'peter', 'her;--william coxe', 'jaques falconbridge', 'william larkins', 'lucio', 'james cooper', 'highbury;--', 'welch', 'john\\n', 'saint luke’s', 'scene v. fields', 'him.--william', 'paul hirsch', 'malcolm', 'frank ford', 'william', 'trojan', 'maurice brun', 'malvoli--', 'andrew dock’d', 'thou lamb', 'king john', 'yorkshire friend--', 'henry', 'thou knowest', 'drugger davis', 'james i', \"robert martin's\", 'tom o’bedlam.—o', 'moth', 'john ostler\\n', 'scene i.', 'scene i. forres', 'scene i. dunsinane', 'miss smith', 'thou whoreson', 'mrs macnab', 'john falstaff', 'omne bene', \"farmer mitchell's\", 'antonio bound', 'longaville', 'jessica\\nshylock', 'katharine', 'finn', 'thou shalt', 'mark antony', 'sessa', \"jealousy.--in jane's\", 'thomas tapster', 'thou hast', 'harriet\\n', 'bleed’st', 'discerning;--', 'scene i. venice', 'edward nutt', 'don juan', 'tell master parson evans', 'george herbert', 'anne page', 'brutus', 'thou shin’st', 'knightley!--how', 'austria', 'm. brun', 'angelo', 'judas maccabaeus', 'cousin oliver', 'broadway lane', 'kin thou', 'crassus', 'elizabeth', 'dan cupid', \"john abdy's\", 'john saunders', 'to angelo', 'chin', 'scene v. a room', 'consisteth', 'elizabeth martin', 'exit angelo', 'fenton\\nwilliam page', 'samuel harrogate', 'thou fortune’s', 'et tu', 'john\\nknightley', 'darwin', 'scene v.', 'lord angelo', 'paul arnhold', 'john falstaffs', 'thou wretch', 'scene i. a', 'queen elizabeth', 'ethel harrogate', 'frank churchill?--', 'brighton', 'st john', 'harriet\\nsmith', 'harriet smith', 'audrey watson', 'harriet said--', 'kill brutus', 'brutus antony', 'camille desmoulins', 'graham', 'robin hood', 'darwin chews dirt', 'earl of gloucester', 'leonardo da vinci', 'quondam', 'saint denis', 'robert martin', 'lucilius', 'uncle knightley', 'be’t', 'peter pendragon', 'louis himself.—so', 'imitari', 'sun', 'thou receivest', 'isidore bruno', 'armado', 'duncan', 'knight', 'john boulnois', \"a robert martin's\", 'hysterica', 'walter pendragon', 'earl', 'dr hirsch', 'exeunt france', 'enter angelo', 'scene i. a room of state', 'satis quod', \"frank\\nchurchill's\", 'don adriano de armado', 'william cox', 'thou bor’st', 'scene v. dunsinane', 'rule--', \"harriet smith's\", 'martin', 'santa maria', 'sweet lamb', \"miss smith's\", \"la baronne d'almane\", 'walter cowdray', 'john knightley)--your', 'thou hast one', 'stephen langton', 'exeunt lucio', 'mark antony’s', \"miss bates's\", 'low.--frank churchill', 'william james', 'e. nutt', 'sirrah claudius', 'george page', 'damosella virgin', 'helm thy state', 'prince lucifer', 'arthur carstairs', 'jack rugby', \"miss taylor's\", 'mrs boulnois', 'thy brutus', 'enter malcolm', 'thought!--she', \"frank churchill's\", 'grey beard', 'quarter:--robert martin', 'exit anne page', 'ovidius naso', 'thou hast done', 'richmond', 'patty', 'pell-mell', 'thou mightst', 'misplac’d john', 'todd brutally', 'knightley.--\"emma', 'gore', 'aurora rome', 'john rugby', 'thou bloodier', 'miss richardson', 'exeunt jessica', 'shylock\\n\\nmagnificoes', 'john loves emma', 'churchill--\\n`', 'burgundy\\ncan', 'arabia', 'brutus\\nhath', 'james dalroy', 'oliver oman', 'whipp’st', 'heart!--she', 'thou hang', 'leonardo', \"william larkins's\", 'miss bickerton', 'maria', 'friar thomas', 'hannah', 'thou hast obtain’d', \"john\\nknightley's\", 'james todhunter', 'cursed’st', 'marie antoinette', 'god', \"john knightley's\", 'decius brutus', 'abraham slender', 'marcus brutus', 'vir sapit', 'peter simple']\n",
            "['john shepherd', 'james stevenson', 'thou hold’st', 'chancery lane', 'john bull', 'thou shalt\\n', 'thou kill’st', 'anne page', 'king\\nwilliam', 'don pedro', 'harry', 'hydra', 'james turnbull', 'albert memorial', 'arthur', 'thaliard', 'eld\\nreceived', 'mrs wallis', 'diana at ephesus\\n\\n\\n\\n\\n dramatis personæ', 'frederick wentworth', 'charles said--', 'don john', 'mr smith', 'diana', 'ho', 'clifton', 'westminster abbey', 'mrs smith', 'anne\\n', 'louis xi', 'don', \"john bull's\", 'james\\nturnbull', 'merit purchaseth', 'have’t', \"mrs clay's\", 'michael', 'laura place', 'james douglas', 'miss anne', 'magdalen don', 'taunton', 'give’t iago', 'mary for anne\\n', 'cruel assyrian', 'elizabeth', 'thou beliest', \"mrs musgrove's\", 'walter elliot', 'charles ii', 'mrs charles', 'thy lover', \"mrs wallis's\", 'monte carlo', 'charles\\nmusgrove', 'anne haggard', 'mrs musgrove', 'charles musgrove', 'pleased;--\\ncharles hayter', 'peter\\nquince', 'honi soit qui mal y', 'ben crowder', 'scene v. another room', 'robin goodfellow', \"mrs charles's\", 'lady mary grierson', 'anne felt', 'thou know’st', 'henry gordon', 'diana at ephesus\\nscene iii', \"lady russell's\", \"al turnbull's\", 'william', 'scene i. pentapolis', 'lodovico', 'thou driv’st', 'scene i. tarsus', 'dick musgrove', 'gotham', 'trojan', 'kellynch hall', 'huius', 'prince john', \"st. paul's\", 'anne\\npage', \"project gutenberg's\", 'tom snout', \"walter elliot's\", \"lady elliot's\", 'henry russell', \"charles hayter's\", 'godwin', 'james russell lowell', 'fetch desdemona', 'scene i.\\n', 'pleasant’st', 'mrs speed', 'jack rugby', 'thou hast\\nmettle', 'jim', 'western bulgaria', 'mrs shirley', \"miss elliot's\", 'charles hayter', 'jack-a-lent', 'william walter elliot', 'm. bert', 'camille', 'scene v. mytilene', \"mrs croft's\", 'bert', 'henry', 'thou leap', \"miss anne's\", 'george seacoal', 'knitteth', 'idee fixe', 'bush', \"mrs harville's\", 'gore', 'margaret hero', 'mrs croft', 'waterloo', 'john rugby', 'm. camille bert', 'scene v. pentapolis', 'miss carteret', 'moth', 'norman', 'a duke de jamany', 'ken whar', 'saint peter', 'scene v.\\nanother room', 'scene i.\\nathens', 'scene i.', 'm.\\nbert', 'mrs harville', 'camden place', \"mrs charles musgrove's\", 'john falstaff', 'mytilene\\nscene ii', 'robinson crusoe', 'michael cassio', 'jesus christ', 'evan stuart', 'hamilton', 'basil morley', 'hugh evans', 'com’st thou', 'cerimon', 'qui', 'mary maclean', 'robin starveling', 'anatole france', 'william walter\\nelliot, esq', 'mrs rooke', 'mrs charles musgrove', 'scene i.\\nleonato', 'margaret', \"elizabeth elliot's\", 'james benwick', 'evan macian', 'be’t', 'thou hast murder’d him', 'sarah', 'tom paine', 'michael hart', 'mrs hayter', 'thou dissembler', \"mrs smith's\", 'thou shalt', 'anthony', 'camille bert', 'philomel', 'marry anne', 'benedick', 'knight', 'kellynch lodge', 'god', 'lady russell', 'michael s. hart', 'camille burt', 'signior angelo', 'charles smith', 'moment--', 'peter quince', 'mary coarse', 'evan\\nmacian', 'jack the ripper', 'signior benedick’s', 'nick bottom', 'mummy', 'cabby', 'john', 'thou hast', 'appeal rang', 'mais oui', 'desdemon', 'anne elliot']\n"
          ]
        }
      ],
      "source": [
        "print(train_ent)\n",
        "print(test_ent)"
      ]
    },
    {
      "cell_type": "markdown",
      "metadata": {
        "id": "lX97arlVXH7z"
      },
      "source": [
        "Dividing text into sequence of 100"
      ]
    },
    {
      "cell_type": "code",
      "execution_count": null,
      "metadata": {
        "id": "HHaSZvFfKQzF"
      },
      "outputs": [],
      "source": [
        "import pandas as pd\n",
        "\n",
        "def divide_text_into_sequences(texts, label, sequence_length=100):\n",
        "    \"\"\"\n",
        "    Divide a list of texts into sequences of a specified length and include a label.\n",
        "\n",
        "    Parameters:\n",
        "    texts (list): List of texts to divide.\n",
        "    label (str): Label to assign to each sequence.\n",
        "    sequence_length (int): Length of each sequence. Default is 100.\n",
        "\n",
        "    Returns:\n",
        "    DataFrame: DataFrame containing sequences and their corresponding label.\n",
        "    \"\"\"\n",
        "    all_sequences = []\n",
        "    for text in texts:\n",
        "        words = text.split()\n",
        "\n",
        "        sequences = []\n",
        "        current_sequence = []\n",
        "\n",
        "        for i, word in enumerate(words):\n",
        "            current_sequence.append(word)\n",
        "            if len(current_sequence) == sequence_length or i == len(words) - 1:\n",
        "                sequences.append(\" \".join(current_sequence))\n",
        "                current_sequence = []\n",
        "        all_sequences.extend(sequences)\n",
        "\n",
        "    # Create a DataFrame to display the sequences\n",
        "    df = pd.DataFrame({\"Sequence\": all_sequences})\n",
        "\n",
        "    # Add the label column\n",
        "    df['Label'] = label\n",
        "\n",
        "    return df\n",
        "\n"
      ]
    },
    {
      "cell_type": "code",
      "execution_count": null,
      "metadata": {
        "id": "zZQsO9OxXlm6"
      },
      "outputs": [],
      "source": [
        "# 0 --> Dickens; 1--> Jane Austen; 2-->Shakespeare\n",
        "dickens_df_train = divide_text_into_sequences(dickens_texts_train,0, sequence_length=25)\n",
        "au_df_train = divide_text_into_sequences(austen_texts_train, 1,sequence_length=25)\n",
        "sh_df_train = divide_text_into_sequences(shakespeare_texts_train, 2,sequence_length=25)\n",
        "\n",
        "dickens_df_test = divide_text_into_sequences(dickens_texts_test, 0,sequence_length=25)\n",
        "au_df_test = divide_text_into_sequences(austen_texts_test, 1, sequence_length=25)\n",
        "sh_df_test = divide_text_into_sequences(shakespeare_texts_test, 2, sequence_length=25)\n"
      ]
    },
    {
      "cell_type": "markdown",
      "metadata": {
        "id": "TduOkIauFrRq"
      },
      "source": [
        "combine the training and testing df here"
      ]
    },
    {
      "cell_type": "code",
      "execution_count": null,
      "metadata": {
        "colab": {
          "base_uri": "https://localhost:8080/"
        },
        "id": "jkVontdj88sw",
        "outputId": "37f2b7dc-7a38-4323-e69f-e49b8e2abe5b"
      },
      "outputs": [
        {
          "output_type": "stream",
          "name": "stdout",
          "text": [
            "                                               Sequence  Label\n",
            "0     I. A DISCUSSION SOMEWHAT IN THE AIR The flying...      0\n",
            "1     of it, gleaming in the bleak blue emptiness of...      0\n",
            "2     two men in it, it seemed to be far above the s...      0\n",
            "3     everything in it. Every sort of tool or appara...      0\n",
            "4     of science. For the world of science and evolu...      0\n",
            "...                                                 ...    ...\n",
            "3259  readable form. The Project gratefully accepts ...      0\n",
            "3260  Gutenberg Literary Archive Foundation.\" If you...      0\n",
            "3261  this eBook's header and trailer may be reprint...      0\n",
            "3262  is a TradeMark and may not be used in any sale...      0\n",
            "3263  other related product without express permissi...      0\n",
            "\n",
            "[3264 rows x 2 columns]\n",
            "                                               Sequence  Label\n",
            "0     Chapter 1 Sir Walter Elliot, of Kellynch Hall,...      1\n",
            "1     Baronetage; there he found occupation for an i...      1\n",
            "2     contemplating the limited remnant of the earli...      1\n",
            "3     over the almost endless creations of the last ...      1\n",
            "4     interest which never failed. This was the page...      1\n",
            "...                                                 ...    ...\n",
            "3328  be happy. Her spring of felicity was in the gl...      1\n",
            "3329  was tenderness itself, and she had the full wo...      1\n",
            "3330  wish that tenderness less, the dread of a futu...      1\n",
            "3331  must pay the tax of quick alarm for belonging ...      1\n",
            "3332                         national importance. Finis      1\n",
            "\n",
            "[3333 rows x 2 columns]\n",
            "                                               Sequence  Label\n",
            "0     I. A field near Frogmore Enter Sir Hugh Evans ...      2\n",
            "1     name, which way have you looked for Master Cai...      2\n",
            "2     Windsor way, and every way but the town way. E...      2\n",
            "3     [_Exit Simple._] EVANS Pless my soul, how full...      2\n",
            "4     How melancholies I am! I will knog his urinals...      2\n",
            "...                                                 ...    ...\n",
            "3476  my dead father did bequeath to me, With this s...      2\n",
            "3477  shield ’Twixt me and death;’—and pointed to th...      2\n",
            "3478  from!—may defend thee.’ It kept where I kept, ...      2\n",
            "3479  rage, though calm’d have given’t again: I than...      2\n",
            "3480  FIRST FISHERMAN. What mean you sir? PERICLES. ...      2\n",
            "\n",
            "[3481 rows x 2 columns]\n"
          ]
        }
      ],
      "source": [
        "print(dickens_df_test)\n",
        "print(au_df_test)\n",
        "print(sh_df_test)"
      ]
    },
    {
      "cell_type": "code",
      "execution_count": null,
      "metadata": {
        "id": "XQlJuc-zvr89"
      },
      "outputs": [],
      "source": [
        "# prompt: export dickens_df_test to csv\n",
        "\n",
        "dickens_df_test.to_csv('dickens_df_test.csv', index=False)\n"
      ]
    },
    {
      "cell_type": "markdown",
      "metadata": {
        "id": "SdwhZ6FBORfm"
      },
      "source": [
        "Text tokenization and preprocessing"
      ]
    },
    {
      "cell_type": "code",
      "execution_count": null,
      "metadata": {
        "id": "ogRMa0r5UjI6"
      },
      "outputs": [],
      "source": [
        "# prompt: tokenize dicken_books\n",
        "\n",
        "import nltk\n",
        "from nltk.tokenize import word_tokenize\n",
        "\n",
        "\n",
        "def tokenize_books(texts):\n",
        "    # Tokenize the texts\n",
        "    tokens_list = [word_tokenize(text.lower()) for text in texts]\n",
        "    # Combine all tokens into a single list\n",
        "    combined_tokens = []\n",
        "\n",
        "    for tokens in tokens_list:\n",
        "        combined_tokens.extend(tokens)\n",
        "    return tokens_list, combined_tokens\n",
        "\n"
      ]
    },
    {
      "cell_type": "code",
      "execution_count": null,
      "metadata": {
        "colab": {
          "base_uri": "https://localhost:8080/"
        },
        "id": "PG5j8eMjUlWn",
        "outputId": "24d81f90-c15e-43fc-ebeb-99b4e9ed381e"
      },
      "outputs": [
        {
          "output_type": "stream",
          "name": "stderr",
          "text": [
            "[nltk_data] Downloading package stopwords to /root/nltk_data...\n",
            "[nltk_data]   Package stopwords is already up-to-date!\n",
            "[nltk_data] Downloading package wordnet to /root/nltk_data...\n",
            "[nltk_data]   Package wordnet is already up-to-date!\n"
          ]
        }
      ],
      "source": [
        "import re\n",
        "import nltk\n",
        "from nltk.corpus import stopwords\n",
        "from nltk.stem import WordNetLemmatizer\n",
        "\n",
        "# Ensure that stopwords and wordnet are downloaded\n",
        "nltk.download('stopwords')\n",
        "nltk.download('wordnet')\n",
        "\n",
        "def pre_processing(tokenized_texts):\n",
        "    # Define stopwords and characters to remove\n",
        "    stopwords_list = set(stopwords.words('english'))\n",
        "    characters_to_remove = {\n",
        "    '[', ']', '.', ',', '!', '?', ';', ':', ')', '(', '--', '``', \"'\", \"''\", '...', '....', '-', '_', '{', '}', '[', ']',\n",
        "    '@', '#', '$', '%', '^', '&', '*', '+', '=', '<', '>', '/', '\\\\', '|', '~', '`', '\"', '..', '!', '!!!', '??', '?!?!',\n",
        "    '?!', '!?', '...', '....', '..', '!!!', '?!?!', '?!', '!?', ':-*', ':*', '<!--', '-->', '<!---', '--->', '<--', '-->', '--', 'â€™', '._]', '[_'\n",
        "}\n",
        "\n",
        "    # Initialize lemmatizer\n",
        "    lemmatizer = WordNetLemmatizer()\n",
        "\n",
        "    cleaned_tokens = []\n",
        "\n",
        "    # Define patterns to remove\n",
        "    patterns_to_remove = [\n",
        "        r'VOLUME [MDCLXVI]+ CHAPTER [MDCLXVI]+',\n",
        "        r'\\bVOLUME\\b',\n",
        "        r'\\bCHAPTER\\b',\n",
        "        r'\\b[0-9]+\\b',\n",
        "        r'\\b[A-Za-z]\\b']\n",
        "\n",
        "    for word in tokenized_texts:\n",
        "        # Check and remove specific patterns\n",
        "        if any(re.search(pattern, word, re.IGNORECASE) for pattern in patterns_to_remove):\n",
        "            continue\n",
        "\n",
        "        # Remove stopwords and unwanted characters\n",
        "        if word not in stopwords_list and word not in characters_to_remove:\n",
        "            # Lemmatize the word\n",
        "            cleaned_token = lemmatizer.lemmatize(word)\n",
        "            cleaned_tokens.append(cleaned_token)\n",
        "\n",
        "    return cleaned_tokens\n",
        "\n",
        "\n"
      ]
    },
    {
      "cell_type": "code",
      "execution_count": null,
      "metadata": {
        "id": "aS1GoF00DWbc"
      },
      "outputs": [],
      "source": [
        "# Define the function to tokenize and preprocess each sequence in the DataFrame\n",
        "def preprocess_sequences(df):\n",
        "    # Tokenize each sequence\n",
        "    df['Tokens'] = df['Sequence'].apply(lambda seq: word_tokenize(seq.lower()))\n",
        "    # Preprocess each tokenized sequence\n",
        "    df['Tokens'] = df['Tokens'].apply(pre_processing)\n",
        "    return df.drop(columns=['Sequence'])"
      ]
    },
    {
      "cell_type": "code",
      "execution_count": null,
      "metadata": {
        "id": "OmO_gGiCDdaz"
      },
      "outputs": [],
      "source": [
        "preproc_dickens_train = preprocess_sequences(dickens_df_train)\n",
        "preproc_austen_train = preprocess_sequences(au_df_train)\n",
        "preproc_shakespeare_train = preprocess_sequences(sh_df_train)\n",
        "\n",
        "preproc_dickens_test = preprocess_sequences(dickens_df_test)\n",
        "preproc_austen_test = preprocess_sequences(au_df_test)\n",
        "preproc_shakespeare_test = preprocess_sequences(sh_df_test)"
      ]
    },
    {
      "cell_type": "code",
      "execution_count": null,
      "metadata": {
        "colab": {
          "base_uri": "https://localhost:8080/",
          "height": 206
        },
        "id": "pyBiwvBcWfKr",
        "outputId": "11399621-104f-4b63-aea9-719bbc7a1870"
      },
      "outputs": [
        {
          "output_type": "execute_result",
          "data": {
            "text/plain": [
              "   Label                                             Tokens\n",
              "0      0  [absence, mr, glass, consulting-rooms, dr, ori...\n",
              "1      0  [scarborough, series, large, well-lighted, fre...\n",
              "2      0  [place, sea, something, monotony, blue-green, ...\n",
              "3      0  [tidiness, unlike, terrible, tidiness, sea, mu...\n",
              "4      0  [place, one, felt, never, allowed, place, luxu..."
            ],
            "text/html": [
              "\n",
              "  <div id=\"df-80d049ec-324f-4040-8763-44d8e0413e9d\" class=\"colab-df-container\">\n",
              "    <div>\n",
              "<style scoped>\n",
              "    .dataframe tbody tr th:only-of-type {\n",
              "        vertical-align: middle;\n",
              "    }\n",
              "\n",
              "    .dataframe tbody tr th {\n",
              "        vertical-align: top;\n",
              "    }\n",
              "\n",
              "    .dataframe thead th {\n",
              "        text-align: right;\n",
              "    }\n",
              "</style>\n",
              "<table border=\"1\" class=\"dataframe\">\n",
              "  <thead>\n",
              "    <tr style=\"text-align: right;\">\n",
              "      <th></th>\n",
              "      <th>Label</th>\n",
              "      <th>Tokens</th>\n",
              "    </tr>\n",
              "  </thead>\n",
              "  <tbody>\n",
              "    <tr>\n",
              "      <th>0</th>\n",
              "      <td>0</td>\n",
              "      <td>[absence, mr, glass, consulting-rooms, dr, ori...</td>\n",
              "    </tr>\n",
              "    <tr>\n",
              "      <th>1</th>\n",
              "      <td>0</td>\n",
              "      <td>[scarborough, series, large, well-lighted, fre...</td>\n",
              "    </tr>\n",
              "    <tr>\n",
              "      <th>2</th>\n",
              "      <td>0</td>\n",
              "      <td>[place, sea, something, monotony, blue-green, ...</td>\n",
              "    </tr>\n",
              "    <tr>\n",
              "      <th>3</th>\n",
              "      <td>0</td>\n",
              "      <td>[tidiness, unlike, terrible, tidiness, sea, mu...</td>\n",
              "    </tr>\n",
              "    <tr>\n",
              "      <th>4</th>\n",
              "      <td>0</td>\n",
              "      <td>[place, one, felt, never, allowed, place, luxu...</td>\n",
              "    </tr>\n",
              "  </tbody>\n",
              "</table>\n",
              "</div>\n",
              "    <div class=\"colab-df-buttons\">\n",
              "\n",
              "  <div class=\"colab-df-container\">\n",
              "    <button class=\"colab-df-convert\" onclick=\"convertToInteractive('df-80d049ec-324f-4040-8763-44d8e0413e9d')\"\n",
              "            title=\"Convert this dataframe to an interactive table.\"\n",
              "            style=\"display:none;\">\n",
              "\n",
              "  <svg xmlns=\"http://www.w3.org/2000/svg\" height=\"24px\" viewBox=\"0 -960 960 960\">\n",
              "    <path d=\"M120-120v-720h720v720H120Zm60-500h600v-160H180v160Zm220 220h160v-160H400v160Zm0 220h160v-160H400v160ZM180-400h160v-160H180v160Zm440 0h160v-160H620v160ZM180-180h160v-160H180v160Zm440 0h160v-160H620v160Z\"/>\n",
              "  </svg>\n",
              "    </button>\n",
              "\n",
              "  <style>\n",
              "    .colab-df-container {\n",
              "      display:flex;\n",
              "      gap: 12px;\n",
              "    }\n",
              "\n",
              "    .colab-df-convert {\n",
              "      background-color: #E8F0FE;\n",
              "      border: none;\n",
              "      border-radius: 50%;\n",
              "      cursor: pointer;\n",
              "      display: none;\n",
              "      fill: #1967D2;\n",
              "      height: 32px;\n",
              "      padding: 0 0 0 0;\n",
              "      width: 32px;\n",
              "    }\n",
              "\n",
              "    .colab-df-convert:hover {\n",
              "      background-color: #E2EBFA;\n",
              "      box-shadow: 0px 1px 2px rgba(60, 64, 67, 0.3), 0px 1px 3px 1px rgba(60, 64, 67, 0.15);\n",
              "      fill: #174EA6;\n",
              "    }\n",
              "\n",
              "    .colab-df-buttons div {\n",
              "      margin-bottom: 4px;\n",
              "    }\n",
              "\n",
              "    [theme=dark] .colab-df-convert {\n",
              "      background-color: #3B4455;\n",
              "      fill: #D2E3FC;\n",
              "    }\n",
              "\n",
              "    [theme=dark] .colab-df-convert:hover {\n",
              "      background-color: #434B5C;\n",
              "      box-shadow: 0px 1px 3px 1px rgba(0, 0, 0, 0.15);\n",
              "      filter: drop-shadow(0px 1px 2px rgba(0, 0, 0, 0.3));\n",
              "      fill: #FFFFFF;\n",
              "    }\n",
              "  </style>\n",
              "\n",
              "    <script>\n",
              "      const buttonEl =\n",
              "        document.querySelector('#df-80d049ec-324f-4040-8763-44d8e0413e9d button.colab-df-convert');\n",
              "      buttonEl.style.display =\n",
              "        google.colab.kernel.accessAllowed ? 'block' : 'none';\n",
              "\n",
              "      async function convertToInteractive(key) {\n",
              "        const element = document.querySelector('#df-80d049ec-324f-4040-8763-44d8e0413e9d');\n",
              "        const dataTable =\n",
              "          await google.colab.kernel.invokeFunction('convertToInteractive',\n",
              "                                                    [key], {});\n",
              "        if (!dataTable) return;\n",
              "\n",
              "        const docLinkHtml = 'Like what you see? Visit the ' +\n",
              "          '<a target=\"_blank\" href=https://colab.research.google.com/notebooks/data_table.ipynb>data table notebook</a>'\n",
              "          + ' to learn more about interactive tables.';\n",
              "        element.innerHTML = '';\n",
              "        dataTable['output_type'] = 'display_data';\n",
              "        await google.colab.output.renderOutput(dataTable, element);\n",
              "        const docLink = document.createElement('div');\n",
              "        docLink.innerHTML = docLinkHtml;\n",
              "        element.appendChild(docLink);\n",
              "      }\n",
              "    </script>\n",
              "  </div>\n",
              "\n",
              "\n",
              "<div id=\"df-35f3661d-bd4a-4fd3-907d-28d2c28a00a7\">\n",
              "  <button class=\"colab-df-quickchart\" onclick=\"quickchart('df-35f3661d-bd4a-4fd3-907d-28d2c28a00a7')\"\n",
              "            title=\"Suggest charts\"\n",
              "            style=\"display:none;\">\n",
              "\n",
              "<svg xmlns=\"http://www.w3.org/2000/svg\" height=\"24px\"viewBox=\"0 0 24 24\"\n",
              "     width=\"24px\">\n",
              "    <g>\n",
              "        <path d=\"M19 3H5c-1.1 0-2 .9-2 2v14c0 1.1.9 2 2 2h14c1.1 0 2-.9 2-2V5c0-1.1-.9-2-2-2zM9 17H7v-7h2v7zm4 0h-2V7h2v10zm4 0h-2v-4h2v4z\"/>\n",
              "    </g>\n",
              "</svg>\n",
              "  </button>\n",
              "\n",
              "<style>\n",
              "  .colab-df-quickchart {\n",
              "      --bg-color: #E8F0FE;\n",
              "      --fill-color: #1967D2;\n",
              "      --hover-bg-color: #E2EBFA;\n",
              "      --hover-fill-color: #174EA6;\n",
              "      --disabled-fill-color: #AAA;\n",
              "      --disabled-bg-color: #DDD;\n",
              "  }\n",
              "\n",
              "  [theme=dark] .colab-df-quickchart {\n",
              "      --bg-color: #3B4455;\n",
              "      --fill-color: #D2E3FC;\n",
              "      --hover-bg-color: #434B5C;\n",
              "      --hover-fill-color: #FFFFFF;\n",
              "      --disabled-bg-color: #3B4455;\n",
              "      --disabled-fill-color: #666;\n",
              "  }\n",
              "\n",
              "  .colab-df-quickchart {\n",
              "    background-color: var(--bg-color);\n",
              "    border: none;\n",
              "    border-radius: 50%;\n",
              "    cursor: pointer;\n",
              "    display: none;\n",
              "    fill: var(--fill-color);\n",
              "    height: 32px;\n",
              "    padding: 0;\n",
              "    width: 32px;\n",
              "  }\n",
              "\n",
              "  .colab-df-quickchart:hover {\n",
              "    background-color: var(--hover-bg-color);\n",
              "    box-shadow: 0 1px 2px rgba(60, 64, 67, 0.3), 0 1px 3px 1px rgba(60, 64, 67, 0.15);\n",
              "    fill: var(--button-hover-fill-color);\n",
              "  }\n",
              "\n",
              "  .colab-df-quickchart-complete:disabled,\n",
              "  .colab-df-quickchart-complete:disabled:hover {\n",
              "    background-color: var(--disabled-bg-color);\n",
              "    fill: var(--disabled-fill-color);\n",
              "    box-shadow: none;\n",
              "  }\n",
              "\n",
              "  .colab-df-spinner {\n",
              "    border: 2px solid var(--fill-color);\n",
              "    border-color: transparent;\n",
              "    border-bottom-color: var(--fill-color);\n",
              "    animation:\n",
              "      spin 1s steps(1) infinite;\n",
              "  }\n",
              "\n",
              "  @keyframes spin {\n",
              "    0% {\n",
              "      border-color: transparent;\n",
              "      border-bottom-color: var(--fill-color);\n",
              "      border-left-color: var(--fill-color);\n",
              "    }\n",
              "    20% {\n",
              "      border-color: transparent;\n",
              "      border-left-color: var(--fill-color);\n",
              "      border-top-color: var(--fill-color);\n",
              "    }\n",
              "    30% {\n",
              "      border-color: transparent;\n",
              "      border-left-color: var(--fill-color);\n",
              "      border-top-color: var(--fill-color);\n",
              "      border-right-color: var(--fill-color);\n",
              "    }\n",
              "    40% {\n",
              "      border-color: transparent;\n",
              "      border-right-color: var(--fill-color);\n",
              "      border-top-color: var(--fill-color);\n",
              "    }\n",
              "    60% {\n",
              "      border-color: transparent;\n",
              "      border-right-color: var(--fill-color);\n",
              "    }\n",
              "    80% {\n",
              "      border-color: transparent;\n",
              "      border-right-color: var(--fill-color);\n",
              "      border-bottom-color: var(--fill-color);\n",
              "    }\n",
              "    90% {\n",
              "      border-color: transparent;\n",
              "      border-bottom-color: var(--fill-color);\n",
              "    }\n",
              "  }\n",
              "</style>\n",
              "\n",
              "  <script>\n",
              "    async function quickchart(key) {\n",
              "      const quickchartButtonEl =\n",
              "        document.querySelector('#' + key + ' button');\n",
              "      quickchartButtonEl.disabled = true;  // To prevent multiple clicks.\n",
              "      quickchartButtonEl.classList.add('colab-df-spinner');\n",
              "      try {\n",
              "        const charts = await google.colab.kernel.invokeFunction(\n",
              "            'suggestCharts', [key], {});\n",
              "      } catch (error) {\n",
              "        console.error('Error during call to suggestCharts:', error);\n",
              "      }\n",
              "      quickchartButtonEl.classList.remove('colab-df-spinner');\n",
              "      quickchartButtonEl.classList.add('colab-df-quickchart-complete');\n",
              "    }\n",
              "    (() => {\n",
              "      let quickchartButtonEl =\n",
              "        document.querySelector('#df-35f3661d-bd4a-4fd3-907d-28d2c28a00a7 button');\n",
              "      quickchartButtonEl.style.display =\n",
              "        google.colab.kernel.accessAllowed ? 'block' : 'none';\n",
              "    })();\n",
              "  </script>\n",
              "</div>\n",
              "\n",
              "    </div>\n",
              "  </div>\n"
            ],
            "application/vnd.google.colaboratory.intrinsic+json": {
              "type": "dataframe",
              "variable_name": "preproc_dickens_train",
              "summary": "{\n  \"name\": \"preproc_dickens_train\",\n  \"rows\": 5163,\n  \"fields\": [\n    {\n      \"column\": \"Label\",\n      \"properties\": {\n        \"dtype\": \"number\",\n        \"std\": 0,\n        \"min\": 0,\n        \"max\": 0,\n        \"num_unique_values\": 1,\n        \"samples\": [\n          0\n        ],\n        \"semantic_type\": \"\",\n        \"description\": \"\"\n      }\n    },\n    {\n      \"column\": \"Tokens\",\n      \"properties\": {\n        \"dtype\": \"object\",\n        \"semantic_type\": \"\",\n        \"description\": \"\"\n      }\n    }\n  ]\n}"
            }
          },
          "metadata": {},
          "execution_count": 29
        }
      ],
      "source": [
        "preproc_dickens_train.head()"
      ]
    },
    {
      "cell_type": "code",
      "execution_count": null,
      "metadata": {
        "colab": {
          "base_uri": "https://localhost:8080/"
        },
        "id": "irUDuckaI9Ow",
        "outputId": "1db6d621-7aca-4c8a-d989-f7071c5c08b9"
      },
      "outputs": [
        {
          "output_type": "stream",
          "name": "stdout",
          "text": [
            "Shape of preproc_dickens_train: (5163, 2)\n",
            "Shape of preproc_austen_train: (6327, 2)\n",
            "Shape of preproc_shakespeare_train: (6324, 2)\n",
            "Shape of preproc_dickens_test: (3264, 2)\n",
            "Shape of preproc_austen_test: (3333, 2)\n",
            "Shape of preproc_shakespeare_test: (3481, 2)\n"
          ]
        }
      ],
      "source": [
        "# prompt: find shape of all df\n",
        "\n",
        "print(\"Shape of preproc_dickens_train:\", preproc_dickens_train.shape)\n",
        "print(\"Shape of preproc_austen_train:\", preproc_austen_train.shape)\n",
        "print(\"Shape of preproc_shakespeare_train:\", preproc_shakespeare_train.shape)\n",
        "\n",
        "print(\"Shape of preproc_dickens_test:\", preproc_dickens_test.shape)\n",
        "print(\"Shape of preproc_austen_test:\", preproc_austen_test.shape)\n",
        "print(\"Shape of preproc_shakespeare_test:\", preproc_shakespeare_test.shape)\n"
      ]
    },
    {
      "cell_type": "code",
      "execution_count": null,
      "metadata": {
        "id": "3aI5CmEADs9c"
      },
      "outputs": [],
      "source": [
        "# Save Dickens test DataFrame to CSV\n",
        "preproc_dickens_train.to_csv('dickens_train.csv', index=False)"
      ]
    },
    {
      "cell_type": "code",
      "execution_count": null,
      "metadata": {
        "id": "-ZKyxeXmIpSB"
      },
      "outputs": [],
      "source": [
        "# Save Shakespeare test DataFrame to CSV\n",
        "preproc_shakespeare_test.to_csv('shakespeaere_test.csv', index=False)"
      ]
    },
    {
      "cell_type": "markdown",
      "metadata": {
        "id": "P13SaT_nb83D"
      },
      "source": [
        "Stacking test and training data frames\n"
      ]
    },
    {
      "cell_type": "code",
      "execution_count": null,
      "metadata": {
        "id": "A5MXPvu4bsgd"
      },
      "outputs": [],
      "source": [
        "import pandas as pd\n",
        "from sklearn.utils import shuffle  # Import shuffle function from scikit-learn\n",
        "\n",
        "def stack_dataframes(df1, df2, df3, output_file):\n",
        "    # Concatenate the data frames vertically\n",
        "    stacked_df = pd.concat([df1, df2, df3], ignore_index=True)\n",
        "\n",
        "    # Shuffle the concatenated data frame\n",
        "    shuffled_df = shuffle(stacked_df)\n",
        "\n",
        "    # Save the shuffled dataframe to a CSV file\n",
        "    shuffled_df.to_csv(output_file, index=False)\n",
        "    print(f\"Data frames stacked and shuffled and saved to {output_file}\")\n",
        "\n",
        "    return shuffled_df"
      ]
    },
    {
      "cell_type": "code",
      "execution_count": null,
      "metadata": {
        "colab": {
          "base_uri": "https://localhost:8080/"
        },
        "id": "ONIvWwmycAfF",
        "outputId": "df150a22-716e-4e43-aff6-b5fe87f45ee4"
      },
      "outputs": [
        {
          "output_type": "stream",
          "name": "stdout",
          "text": [
            "Data frames stacked and shuffled and saved to test_df.csv\n",
            "Data frames stacked and shuffled and saved to train_df.csv\n"
          ]
        }
      ],
      "source": [
        "test_df = stack_dataframes(preproc_dickens_test, preproc_austen_test, preproc_shakespeare_test, 'test_df.csv')\n",
        "train_df = stack_dataframes(preproc_dickens_train, preproc_austen_train, preproc_shakespeare_train, 'train_df.csv'\n",
        "                            )"
      ]
    },
    {
      "cell_type": "code",
      "execution_count": null,
      "metadata": {
        "colab": {
          "base_uri": "https://localhost:8080/",
          "height": 362
        },
        "id": "7aDLzAhzCgXK",
        "outputId": "6486cf28-4d5e-494c-de7c-52c5c8cd5857"
      },
      "outputs": [
        {
          "output_type": "execute_result",
          "data": {
            "text/plain": [
              "       Label                                             Tokens\n",
              "14418      2  [beauty, vowed, though, forsworn, thee, ’, fai...\n",
              "16666      2  [every, man, man, throstle, sing, fall, straig...\n",
              "325        0  [fault, answered, muscari, fault, troy, fell, ...\n",
              "4          0  [place, one, felt, never, allowed, place, luxu...\n",
              "1860       0  [somewhat, quaintly, clad, tight, uniform, yel...\n",
              "16563      2  [shall, marry, nuptial, finished, let, whipped...\n",
              "1316       0  [unbearable, thought, like, touching, hot, iro...\n",
              "17629      2  [box, mistress, quickly, ay, forsooth, ’, fetc...\n",
              "3908       0  [mind, hearing, story, replied, eminent, forei...\n",
              "1833       0  [sort, half-man, like, half-lion, half-stag, q..."
            ],
            "text/html": [
              "\n",
              "  <div id=\"df-d1105de4-83cf-49f3-9f19-b3ca7a54d1b4\" class=\"colab-df-container\">\n",
              "    <div>\n",
              "<style scoped>\n",
              "    .dataframe tbody tr th:only-of-type {\n",
              "        vertical-align: middle;\n",
              "    }\n",
              "\n",
              "    .dataframe tbody tr th {\n",
              "        vertical-align: top;\n",
              "    }\n",
              "\n",
              "    .dataframe thead th {\n",
              "        text-align: right;\n",
              "    }\n",
              "</style>\n",
              "<table border=\"1\" class=\"dataframe\">\n",
              "  <thead>\n",
              "    <tr style=\"text-align: right;\">\n",
              "      <th></th>\n",
              "      <th>Label</th>\n",
              "      <th>Tokens</th>\n",
              "    </tr>\n",
              "  </thead>\n",
              "  <tbody>\n",
              "    <tr>\n",
              "      <th>14418</th>\n",
              "      <td>2</td>\n",
              "      <td>[beauty, vowed, though, forsworn, thee, ’, fai...</td>\n",
              "    </tr>\n",
              "    <tr>\n",
              "      <th>16666</th>\n",
              "      <td>2</td>\n",
              "      <td>[every, man, man, throstle, sing, fall, straig...</td>\n",
              "    </tr>\n",
              "    <tr>\n",
              "      <th>325</th>\n",
              "      <td>0</td>\n",
              "      <td>[fault, answered, muscari, fault, troy, fell, ...</td>\n",
              "    </tr>\n",
              "    <tr>\n",
              "      <th>4</th>\n",
              "      <td>0</td>\n",
              "      <td>[place, one, felt, never, allowed, place, luxu...</td>\n",
              "    </tr>\n",
              "    <tr>\n",
              "      <th>1860</th>\n",
              "      <td>0</td>\n",
              "      <td>[somewhat, quaintly, clad, tight, uniform, yel...</td>\n",
              "    </tr>\n",
              "    <tr>\n",
              "      <th>16563</th>\n",
              "      <td>2</td>\n",
              "      <td>[shall, marry, nuptial, finished, let, whipped...</td>\n",
              "    </tr>\n",
              "    <tr>\n",
              "      <th>1316</th>\n",
              "      <td>0</td>\n",
              "      <td>[unbearable, thought, like, touching, hot, iro...</td>\n",
              "    </tr>\n",
              "    <tr>\n",
              "      <th>17629</th>\n",
              "      <td>2</td>\n",
              "      <td>[box, mistress, quickly, ay, forsooth, ’, fetc...</td>\n",
              "    </tr>\n",
              "    <tr>\n",
              "      <th>3908</th>\n",
              "      <td>0</td>\n",
              "      <td>[mind, hearing, story, replied, eminent, forei...</td>\n",
              "    </tr>\n",
              "    <tr>\n",
              "      <th>1833</th>\n",
              "      <td>0</td>\n",
              "      <td>[sort, half-man, like, half-lion, half-stag, q...</td>\n",
              "    </tr>\n",
              "  </tbody>\n",
              "</table>\n",
              "</div>\n",
              "    <div class=\"colab-df-buttons\">\n",
              "\n",
              "  <div class=\"colab-df-container\">\n",
              "    <button class=\"colab-df-convert\" onclick=\"convertToInteractive('df-d1105de4-83cf-49f3-9f19-b3ca7a54d1b4')\"\n",
              "            title=\"Convert this dataframe to an interactive table.\"\n",
              "            style=\"display:none;\">\n",
              "\n",
              "  <svg xmlns=\"http://www.w3.org/2000/svg\" height=\"24px\" viewBox=\"0 -960 960 960\">\n",
              "    <path d=\"M120-120v-720h720v720H120Zm60-500h600v-160H180v160Zm220 220h160v-160H400v160Zm0 220h160v-160H400v160ZM180-400h160v-160H180v160Zm440 0h160v-160H620v160ZM180-180h160v-160H180v160Zm440 0h160v-160H620v160Z\"/>\n",
              "  </svg>\n",
              "    </button>\n",
              "\n",
              "  <style>\n",
              "    .colab-df-container {\n",
              "      display:flex;\n",
              "      gap: 12px;\n",
              "    }\n",
              "\n",
              "    .colab-df-convert {\n",
              "      background-color: #E8F0FE;\n",
              "      border: none;\n",
              "      border-radius: 50%;\n",
              "      cursor: pointer;\n",
              "      display: none;\n",
              "      fill: #1967D2;\n",
              "      height: 32px;\n",
              "      padding: 0 0 0 0;\n",
              "      width: 32px;\n",
              "    }\n",
              "\n",
              "    .colab-df-convert:hover {\n",
              "      background-color: #E2EBFA;\n",
              "      box-shadow: 0px 1px 2px rgba(60, 64, 67, 0.3), 0px 1px 3px 1px rgba(60, 64, 67, 0.15);\n",
              "      fill: #174EA6;\n",
              "    }\n",
              "\n",
              "    .colab-df-buttons div {\n",
              "      margin-bottom: 4px;\n",
              "    }\n",
              "\n",
              "    [theme=dark] .colab-df-convert {\n",
              "      background-color: #3B4455;\n",
              "      fill: #D2E3FC;\n",
              "    }\n",
              "\n",
              "    [theme=dark] .colab-df-convert:hover {\n",
              "      background-color: #434B5C;\n",
              "      box-shadow: 0px 1px 3px 1px rgba(0, 0, 0, 0.15);\n",
              "      filter: drop-shadow(0px 1px 2px rgba(0, 0, 0, 0.3));\n",
              "      fill: #FFFFFF;\n",
              "    }\n",
              "  </style>\n",
              "\n",
              "    <script>\n",
              "      const buttonEl =\n",
              "        document.querySelector('#df-d1105de4-83cf-49f3-9f19-b3ca7a54d1b4 button.colab-df-convert');\n",
              "      buttonEl.style.display =\n",
              "        google.colab.kernel.accessAllowed ? 'block' : 'none';\n",
              "\n",
              "      async function convertToInteractive(key) {\n",
              "        const element = document.querySelector('#df-d1105de4-83cf-49f3-9f19-b3ca7a54d1b4');\n",
              "        const dataTable =\n",
              "          await google.colab.kernel.invokeFunction('convertToInteractive',\n",
              "                                                    [key], {});\n",
              "        if (!dataTable) return;\n",
              "\n",
              "        const docLinkHtml = 'Like what you see? Visit the ' +\n",
              "          '<a target=\"_blank\" href=https://colab.research.google.com/notebooks/data_table.ipynb>data table notebook</a>'\n",
              "          + ' to learn more about interactive tables.';\n",
              "        element.innerHTML = '';\n",
              "        dataTable['output_type'] = 'display_data';\n",
              "        await google.colab.output.renderOutput(dataTable, element);\n",
              "        const docLink = document.createElement('div');\n",
              "        docLink.innerHTML = docLinkHtml;\n",
              "        element.appendChild(docLink);\n",
              "      }\n",
              "    </script>\n",
              "  </div>\n",
              "\n",
              "\n",
              "<div id=\"df-e5fd9a8a-25ce-4f50-9c67-169aa3c449f9\">\n",
              "  <button class=\"colab-df-quickchart\" onclick=\"quickchart('df-e5fd9a8a-25ce-4f50-9c67-169aa3c449f9')\"\n",
              "            title=\"Suggest charts\"\n",
              "            style=\"display:none;\">\n",
              "\n",
              "<svg xmlns=\"http://www.w3.org/2000/svg\" height=\"24px\"viewBox=\"0 0 24 24\"\n",
              "     width=\"24px\">\n",
              "    <g>\n",
              "        <path d=\"M19 3H5c-1.1 0-2 .9-2 2v14c0 1.1.9 2 2 2h14c1.1 0 2-.9 2-2V5c0-1.1-.9-2-2-2zM9 17H7v-7h2v7zm4 0h-2V7h2v10zm4 0h-2v-4h2v4z\"/>\n",
              "    </g>\n",
              "</svg>\n",
              "  </button>\n",
              "\n",
              "<style>\n",
              "  .colab-df-quickchart {\n",
              "      --bg-color: #E8F0FE;\n",
              "      --fill-color: #1967D2;\n",
              "      --hover-bg-color: #E2EBFA;\n",
              "      --hover-fill-color: #174EA6;\n",
              "      --disabled-fill-color: #AAA;\n",
              "      --disabled-bg-color: #DDD;\n",
              "  }\n",
              "\n",
              "  [theme=dark] .colab-df-quickchart {\n",
              "      --bg-color: #3B4455;\n",
              "      --fill-color: #D2E3FC;\n",
              "      --hover-bg-color: #434B5C;\n",
              "      --hover-fill-color: #FFFFFF;\n",
              "      --disabled-bg-color: #3B4455;\n",
              "      --disabled-fill-color: #666;\n",
              "  }\n",
              "\n",
              "  .colab-df-quickchart {\n",
              "    background-color: var(--bg-color);\n",
              "    border: none;\n",
              "    border-radius: 50%;\n",
              "    cursor: pointer;\n",
              "    display: none;\n",
              "    fill: var(--fill-color);\n",
              "    height: 32px;\n",
              "    padding: 0;\n",
              "    width: 32px;\n",
              "  }\n",
              "\n",
              "  .colab-df-quickchart:hover {\n",
              "    background-color: var(--hover-bg-color);\n",
              "    box-shadow: 0 1px 2px rgba(60, 64, 67, 0.3), 0 1px 3px 1px rgba(60, 64, 67, 0.15);\n",
              "    fill: var(--button-hover-fill-color);\n",
              "  }\n",
              "\n",
              "  .colab-df-quickchart-complete:disabled,\n",
              "  .colab-df-quickchart-complete:disabled:hover {\n",
              "    background-color: var(--disabled-bg-color);\n",
              "    fill: var(--disabled-fill-color);\n",
              "    box-shadow: none;\n",
              "  }\n",
              "\n",
              "  .colab-df-spinner {\n",
              "    border: 2px solid var(--fill-color);\n",
              "    border-color: transparent;\n",
              "    border-bottom-color: var(--fill-color);\n",
              "    animation:\n",
              "      spin 1s steps(1) infinite;\n",
              "  }\n",
              "\n",
              "  @keyframes spin {\n",
              "    0% {\n",
              "      border-color: transparent;\n",
              "      border-bottom-color: var(--fill-color);\n",
              "      border-left-color: var(--fill-color);\n",
              "    }\n",
              "    20% {\n",
              "      border-color: transparent;\n",
              "      border-left-color: var(--fill-color);\n",
              "      border-top-color: var(--fill-color);\n",
              "    }\n",
              "    30% {\n",
              "      border-color: transparent;\n",
              "      border-left-color: var(--fill-color);\n",
              "      border-top-color: var(--fill-color);\n",
              "      border-right-color: var(--fill-color);\n",
              "    }\n",
              "    40% {\n",
              "      border-color: transparent;\n",
              "      border-right-color: var(--fill-color);\n",
              "      border-top-color: var(--fill-color);\n",
              "    }\n",
              "    60% {\n",
              "      border-color: transparent;\n",
              "      border-right-color: var(--fill-color);\n",
              "    }\n",
              "    80% {\n",
              "      border-color: transparent;\n",
              "      border-right-color: var(--fill-color);\n",
              "      border-bottom-color: var(--fill-color);\n",
              "    }\n",
              "    90% {\n",
              "      border-color: transparent;\n",
              "      border-bottom-color: var(--fill-color);\n",
              "    }\n",
              "  }\n",
              "</style>\n",
              "\n",
              "  <script>\n",
              "    async function quickchart(key) {\n",
              "      const quickchartButtonEl =\n",
              "        document.querySelector('#' + key + ' button');\n",
              "      quickchartButtonEl.disabled = true;  // To prevent multiple clicks.\n",
              "      quickchartButtonEl.classList.add('colab-df-spinner');\n",
              "      try {\n",
              "        const charts = await google.colab.kernel.invokeFunction(\n",
              "            'suggestCharts', [key], {});\n",
              "      } catch (error) {\n",
              "        console.error('Error during call to suggestCharts:', error);\n",
              "      }\n",
              "      quickchartButtonEl.classList.remove('colab-df-spinner');\n",
              "      quickchartButtonEl.classList.add('colab-df-quickchart-complete');\n",
              "    }\n",
              "    (() => {\n",
              "      let quickchartButtonEl =\n",
              "        document.querySelector('#df-e5fd9a8a-25ce-4f50-9c67-169aa3c449f9 button');\n",
              "      quickchartButtonEl.style.display =\n",
              "        google.colab.kernel.accessAllowed ? 'block' : 'none';\n",
              "    })();\n",
              "  </script>\n",
              "</div>\n",
              "\n",
              "    </div>\n",
              "  </div>\n"
            ],
            "application/vnd.google.colaboratory.intrinsic+json": {
              "type": "dataframe",
              "variable_name": "train_df",
              "summary": "{\n  \"name\": \"train_df\",\n  \"rows\": 17814,\n  \"fields\": [\n    {\n      \"column\": \"Label\",\n      \"properties\": {\n        \"dtype\": \"number\",\n        \"std\": 0,\n        \"min\": 0,\n        \"max\": 2,\n        \"num_unique_values\": 3,\n        \"samples\": [\n          2,\n          0,\n          1\n        ],\n        \"semantic_type\": \"\",\n        \"description\": \"\"\n      }\n    },\n    {\n      \"column\": \"Tokens\",\n      \"properties\": {\n        \"dtype\": \"object\",\n        \"semantic_type\": \"\",\n        \"description\": \"\"\n      }\n    }\n  ]\n}"
            }
          },
          "metadata": {},
          "execution_count": 35
        }
      ],
      "source": [
        "train_df.head(10)"
      ]
    },
    {
      "cell_type": "code",
      "execution_count": null,
      "metadata": {
        "colab": {
          "base_uri": "https://localhost:8080/"
        },
        "id": "IWrEAy6zo0kz",
        "outputId": "0b4ce247-c2b8-4ca9-e634-8b573be87417"
      },
      "outputs": [
        {
          "output_type": "stream",
          "name": "stdout",
          "text": [
            "(10078, 2)\n",
            "(17814, 2)\n"
          ]
        }
      ],
      "source": [
        "print(test_df.shape)\n",
        "print(train_df.shape)"
      ]
    },
    {
      "cell_type": "markdown",
      "metadata": {
        "id": "WtrhSC9Bmeki"
      },
      "source": [
        "Filtering sequences on the basis of entities"
      ]
    },
    {
      "cell_type": "code",
      "execution_count": null,
      "metadata": {
        "colab": {
          "base_uri": "https://localhost:8080/"
        },
        "id": "zYRS0zeOmd8r",
        "outputId": "884de768-8554-4e0c-bc0a-6046dd6d091d"
      },
      "outputs": [
        {
          "output_type": "stream",
          "name": "stdout",
          "text": [
            "Sequences with entities removed and saved to final_train_df.csv\n",
            "Sequences with entities removed and saved to final_test_df.csv\n"
          ]
        }
      ],
      "source": [
        "import pandas as pd\n",
        "\n",
        "def remove_sequences_with_entities(df, entities, output_file):\n",
        "    \"\"\"\n",
        "    Remove sequences from DataFrame where any entity is found in the Tokens column.\n",
        "\n",
        "    Args:\n",
        "    - df (pd.DataFrame): DataFrame containing Sequence, Label, and Tokens columns.\n",
        "    - entities (list): List of entities to check against.\n",
        "\n",
        "    Returns:\n",
        "    - pd.DataFrame: Cleaned DataFrame without rows containing entities.\n",
        "    \"\"\"\n",
        "    cleaned_sequences = []\n",
        "    for index, row in df.iterrows():\n",
        "        tokens = row['Tokens']\n",
        "        entity_found = False\n",
        "        for token in tokens:\n",
        "            for entity in entities:\n",
        "                if entity.lower() in token.lower():\n",
        "                    entity_found = True\n",
        "                    break\n",
        "            if entity_found:\n",
        "                break\n",
        "\n",
        "        if not entity_found:\n",
        "            cleaned_sequences.append(row)\n",
        "\n",
        "    cleaned_df = pd.DataFrame(cleaned_sequences)\n",
        "    cleaned_df.to_csv(output_file, index=False)\n",
        "    print(f\"Sequences with entities removed and saved to {output_file}\")\n",
        "    return cleaned_df\n",
        "\n",
        "\n",
        "filtered_train_df = remove_sequences_with_entities(train_df, train_ent, 'final_train_df.csv')\n",
        "filtered_test_df = remove_sequences_with_entities(test_df, test_ent, 'final_test_df.csv')\n"
      ]
    },
    {
      "cell_type": "code",
      "execution_count": null,
      "metadata": {
        "colab": {
          "base_uri": "https://localhost:8080/"
        },
        "id": "JIe0zdo7okr3",
        "outputId": "e6f76ace-4998-4cc1-d36f-496761fa128a"
      },
      "outputs": [
        {
          "output_type": "stream",
          "name": "stdout",
          "text": [
            "(10174, 2)\n",
            "(5709, 2)\n"
          ]
        }
      ],
      "source": [
        "print(filtered_train_df.shape)\n",
        "print(filtered_test_df.shape)"
      ]
    },
    {
      "cell_type": "code",
      "execution_count": null,
      "metadata": {
        "colab": {
          "base_uri": "https://localhost:8080/",
          "height": 206
        },
        "id": "ah-5BO7WJnZs",
        "outputId": "d802b4e8-52fc-4cd9-9f85-a135b0c1b672"
      },
      "outputs": [
        {
          "output_type": "execute_result",
          "data": {
            "text/plain": [
              "       Label                                             Tokens\n",
              "16666      2  [every, man, man, throstle, sing, fall, straig...\n",
              "325        0  [fault, answered, muscari, fault, troy, fell, ...\n",
              "4          0  [place, one, felt, never, allowed, place, luxu...\n",
              "1860       0  [somewhat, quaintly, clad, tight, uniform, yel...\n",
              "17629      2  [box, mistress, quickly, ay, forsooth, ’, fetc..."
            ],
            "text/html": [
              "\n",
              "  <div id=\"df-0a3070d7-f940-4769-a59d-ae6b642e1c76\" class=\"colab-df-container\">\n",
              "    <div>\n",
              "<style scoped>\n",
              "    .dataframe tbody tr th:only-of-type {\n",
              "        vertical-align: middle;\n",
              "    }\n",
              "\n",
              "    .dataframe tbody tr th {\n",
              "        vertical-align: top;\n",
              "    }\n",
              "\n",
              "    .dataframe thead th {\n",
              "        text-align: right;\n",
              "    }\n",
              "</style>\n",
              "<table border=\"1\" class=\"dataframe\">\n",
              "  <thead>\n",
              "    <tr style=\"text-align: right;\">\n",
              "      <th></th>\n",
              "      <th>Label</th>\n",
              "      <th>Tokens</th>\n",
              "    </tr>\n",
              "  </thead>\n",
              "  <tbody>\n",
              "    <tr>\n",
              "      <th>16666</th>\n",
              "      <td>2</td>\n",
              "      <td>[every, man, man, throstle, sing, fall, straig...</td>\n",
              "    </tr>\n",
              "    <tr>\n",
              "      <th>325</th>\n",
              "      <td>0</td>\n",
              "      <td>[fault, answered, muscari, fault, troy, fell, ...</td>\n",
              "    </tr>\n",
              "    <tr>\n",
              "      <th>4</th>\n",
              "      <td>0</td>\n",
              "      <td>[place, one, felt, never, allowed, place, luxu...</td>\n",
              "    </tr>\n",
              "    <tr>\n",
              "      <th>1860</th>\n",
              "      <td>0</td>\n",
              "      <td>[somewhat, quaintly, clad, tight, uniform, yel...</td>\n",
              "    </tr>\n",
              "    <tr>\n",
              "      <th>17629</th>\n",
              "      <td>2</td>\n",
              "      <td>[box, mistress, quickly, ay, forsooth, ’, fetc...</td>\n",
              "    </tr>\n",
              "  </tbody>\n",
              "</table>\n",
              "</div>\n",
              "    <div class=\"colab-df-buttons\">\n",
              "\n",
              "  <div class=\"colab-df-container\">\n",
              "    <button class=\"colab-df-convert\" onclick=\"convertToInteractive('df-0a3070d7-f940-4769-a59d-ae6b642e1c76')\"\n",
              "            title=\"Convert this dataframe to an interactive table.\"\n",
              "            style=\"display:none;\">\n",
              "\n",
              "  <svg xmlns=\"http://www.w3.org/2000/svg\" height=\"24px\" viewBox=\"0 -960 960 960\">\n",
              "    <path d=\"M120-120v-720h720v720H120Zm60-500h600v-160H180v160Zm220 220h160v-160H400v160Zm0 220h160v-160H400v160ZM180-400h160v-160H180v160Zm440 0h160v-160H620v160ZM180-180h160v-160H180v160Zm440 0h160v-160H620v160Z\"/>\n",
              "  </svg>\n",
              "    </button>\n",
              "\n",
              "  <style>\n",
              "    .colab-df-container {\n",
              "      display:flex;\n",
              "      gap: 12px;\n",
              "    }\n",
              "\n",
              "    .colab-df-convert {\n",
              "      background-color: #E8F0FE;\n",
              "      border: none;\n",
              "      border-radius: 50%;\n",
              "      cursor: pointer;\n",
              "      display: none;\n",
              "      fill: #1967D2;\n",
              "      height: 32px;\n",
              "      padding: 0 0 0 0;\n",
              "      width: 32px;\n",
              "    }\n",
              "\n",
              "    .colab-df-convert:hover {\n",
              "      background-color: #E2EBFA;\n",
              "      box-shadow: 0px 1px 2px rgba(60, 64, 67, 0.3), 0px 1px 3px 1px rgba(60, 64, 67, 0.15);\n",
              "      fill: #174EA6;\n",
              "    }\n",
              "\n",
              "    .colab-df-buttons div {\n",
              "      margin-bottom: 4px;\n",
              "    }\n",
              "\n",
              "    [theme=dark] .colab-df-convert {\n",
              "      background-color: #3B4455;\n",
              "      fill: #D2E3FC;\n",
              "    }\n",
              "\n",
              "    [theme=dark] .colab-df-convert:hover {\n",
              "      background-color: #434B5C;\n",
              "      box-shadow: 0px 1px 3px 1px rgba(0, 0, 0, 0.15);\n",
              "      filter: drop-shadow(0px 1px 2px rgba(0, 0, 0, 0.3));\n",
              "      fill: #FFFFFF;\n",
              "    }\n",
              "  </style>\n",
              "\n",
              "    <script>\n",
              "      const buttonEl =\n",
              "        document.querySelector('#df-0a3070d7-f940-4769-a59d-ae6b642e1c76 button.colab-df-convert');\n",
              "      buttonEl.style.display =\n",
              "        google.colab.kernel.accessAllowed ? 'block' : 'none';\n",
              "\n",
              "      async function convertToInteractive(key) {\n",
              "        const element = document.querySelector('#df-0a3070d7-f940-4769-a59d-ae6b642e1c76');\n",
              "        const dataTable =\n",
              "          await google.colab.kernel.invokeFunction('convertToInteractive',\n",
              "                                                    [key], {});\n",
              "        if (!dataTable) return;\n",
              "\n",
              "        const docLinkHtml = 'Like what you see? Visit the ' +\n",
              "          '<a target=\"_blank\" href=https://colab.research.google.com/notebooks/data_table.ipynb>data table notebook</a>'\n",
              "          + ' to learn more about interactive tables.';\n",
              "        element.innerHTML = '';\n",
              "        dataTable['output_type'] = 'display_data';\n",
              "        await google.colab.output.renderOutput(dataTable, element);\n",
              "        const docLink = document.createElement('div');\n",
              "        docLink.innerHTML = docLinkHtml;\n",
              "        element.appendChild(docLink);\n",
              "      }\n",
              "    </script>\n",
              "  </div>\n",
              "\n",
              "\n",
              "<div id=\"df-912b5fb1-b09d-4056-a39f-6789e9c31693\">\n",
              "  <button class=\"colab-df-quickchart\" onclick=\"quickchart('df-912b5fb1-b09d-4056-a39f-6789e9c31693')\"\n",
              "            title=\"Suggest charts\"\n",
              "            style=\"display:none;\">\n",
              "\n",
              "<svg xmlns=\"http://www.w3.org/2000/svg\" height=\"24px\"viewBox=\"0 0 24 24\"\n",
              "     width=\"24px\">\n",
              "    <g>\n",
              "        <path d=\"M19 3H5c-1.1 0-2 .9-2 2v14c0 1.1.9 2 2 2h14c1.1 0 2-.9 2-2V5c0-1.1-.9-2-2-2zM9 17H7v-7h2v7zm4 0h-2V7h2v10zm4 0h-2v-4h2v4z\"/>\n",
              "    </g>\n",
              "</svg>\n",
              "  </button>\n",
              "\n",
              "<style>\n",
              "  .colab-df-quickchart {\n",
              "      --bg-color: #E8F0FE;\n",
              "      --fill-color: #1967D2;\n",
              "      --hover-bg-color: #E2EBFA;\n",
              "      --hover-fill-color: #174EA6;\n",
              "      --disabled-fill-color: #AAA;\n",
              "      --disabled-bg-color: #DDD;\n",
              "  }\n",
              "\n",
              "  [theme=dark] .colab-df-quickchart {\n",
              "      --bg-color: #3B4455;\n",
              "      --fill-color: #D2E3FC;\n",
              "      --hover-bg-color: #434B5C;\n",
              "      --hover-fill-color: #FFFFFF;\n",
              "      --disabled-bg-color: #3B4455;\n",
              "      --disabled-fill-color: #666;\n",
              "  }\n",
              "\n",
              "  .colab-df-quickchart {\n",
              "    background-color: var(--bg-color);\n",
              "    border: none;\n",
              "    border-radius: 50%;\n",
              "    cursor: pointer;\n",
              "    display: none;\n",
              "    fill: var(--fill-color);\n",
              "    height: 32px;\n",
              "    padding: 0;\n",
              "    width: 32px;\n",
              "  }\n",
              "\n",
              "  .colab-df-quickchart:hover {\n",
              "    background-color: var(--hover-bg-color);\n",
              "    box-shadow: 0 1px 2px rgba(60, 64, 67, 0.3), 0 1px 3px 1px rgba(60, 64, 67, 0.15);\n",
              "    fill: var(--button-hover-fill-color);\n",
              "  }\n",
              "\n",
              "  .colab-df-quickchart-complete:disabled,\n",
              "  .colab-df-quickchart-complete:disabled:hover {\n",
              "    background-color: var(--disabled-bg-color);\n",
              "    fill: var(--disabled-fill-color);\n",
              "    box-shadow: none;\n",
              "  }\n",
              "\n",
              "  .colab-df-spinner {\n",
              "    border: 2px solid var(--fill-color);\n",
              "    border-color: transparent;\n",
              "    border-bottom-color: var(--fill-color);\n",
              "    animation:\n",
              "      spin 1s steps(1) infinite;\n",
              "  }\n",
              "\n",
              "  @keyframes spin {\n",
              "    0% {\n",
              "      border-color: transparent;\n",
              "      border-bottom-color: var(--fill-color);\n",
              "      border-left-color: var(--fill-color);\n",
              "    }\n",
              "    20% {\n",
              "      border-color: transparent;\n",
              "      border-left-color: var(--fill-color);\n",
              "      border-top-color: var(--fill-color);\n",
              "    }\n",
              "    30% {\n",
              "      border-color: transparent;\n",
              "      border-left-color: var(--fill-color);\n",
              "      border-top-color: var(--fill-color);\n",
              "      border-right-color: var(--fill-color);\n",
              "    }\n",
              "    40% {\n",
              "      border-color: transparent;\n",
              "      border-right-color: var(--fill-color);\n",
              "      border-top-color: var(--fill-color);\n",
              "    }\n",
              "    60% {\n",
              "      border-color: transparent;\n",
              "      border-right-color: var(--fill-color);\n",
              "    }\n",
              "    80% {\n",
              "      border-color: transparent;\n",
              "      border-right-color: var(--fill-color);\n",
              "      border-bottom-color: var(--fill-color);\n",
              "    }\n",
              "    90% {\n",
              "      border-color: transparent;\n",
              "      border-bottom-color: var(--fill-color);\n",
              "    }\n",
              "  }\n",
              "</style>\n",
              "\n",
              "  <script>\n",
              "    async function quickchart(key) {\n",
              "      const quickchartButtonEl =\n",
              "        document.querySelector('#' + key + ' button');\n",
              "      quickchartButtonEl.disabled = true;  // To prevent multiple clicks.\n",
              "      quickchartButtonEl.classList.add('colab-df-spinner');\n",
              "      try {\n",
              "        const charts = await google.colab.kernel.invokeFunction(\n",
              "            'suggestCharts', [key], {});\n",
              "      } catch (error) {\n",
              "        console.error('Error during call to suggestCharts:', error);\n",
              "      }\n",
              "      quickchartButtonEl.classList.remove('colab-df-spinner');\n",
              "      quickchartButtonEl.classList.add('colab-df-quickchart-complete');\n",
              "    }\n",
              "    (() => {\n",
              "      let quickchartButtonEl =\n",
              "        document.querySelector('#df-912b5fb1-b09d-4056-a39f-6789e9c31693 button');\n",
              "      quickchartButtonEl.style.display =\n",
              "        google.colab.kernel.accessAllowed ? 'block' : 'none';\n",
              "    })();\n",
              "  </script>\n",
              "</div>\n",
              "\n",
              "    </div>\n",
              "  </div>\n"
            ],
            "application/vnd.google.colaboratory.intrinsic+json": {
              "type": "dataframe",
              "variable_name": "filtered_train_df",
              "summary": "{\n  \"name\": \"filtered_train_df\",\n  \"rows\": 10174,\n  \"fields\": [\n    {\n      \"column\": \"Label\",\n      \"properties\": {\n        \"dtype\": \"number\",\n        \"std\": 0,\n        \"min\": 0,\n        \"max\": 2,\n        \"num_unique_values\": 3,\n        \"samples\": [\n          2,\n          0,\n          1\n        ],\n        \"semantic_type\": \"\",\n        \"description\": \"\"\n      }\n    },\n    {\n      \"column\": \"Tokens\",\n      \"properties\": {\n        \"dtype\": \"object\",\n        \"semantic_type\": \"\",\n        \"description\": \"\"\n      }\n    }\n  ]\n}"
            }
          },
          "metadata": {},
          "execution_count": 39
        }
      ],
      "source": [
        "filtered_train_df.head()"
      ]
    },
    {
      "cell_type": "markdown",
      "metadata": {
        "id": "jgECtlagyWe3"
      },
      "source": [
        "Creating Bag of Words"
      ]
    },
    {
      "cell_type": "code",
      "execution_count": null,
      "metadata": {
        "colab": {
          "base_uri": "https://localhost:8080/"
        },
        "id": "NVl42IoPxpAT",
        "outputId": "1ed496e1-a713-4766-b837-5f9aed51d504"
      },
      "outputs": [
        {
          "output_type": "stream",
          "name": "stdout",
          "text": [
            "First few rows of training data:\n",
            "   Label                                             Tokens\n",
            "0      2  ['every', 'man', 'man', 'throstle', 'sing', 'f...\n",
            "1      0  ['fault', 'answered', 'muscari', 'fault', 'tro...\n",
            "2      0  ['place', 'one', 'felt', 'never', 'allowed', '...\n",
            "3      0  ['somewhat', 'quaintly', 'clad', 'tight', 'uni...\n",
            "4      2  ['box', 'mistress', 'quickly', 'ay', 'forsooth...\n",
            "First few rows of testing data:\n",
            "   Label                                             Tokens\n",
            "0      1  ['probability', 'event', 'dread', 'whether', '...\n",
            "1      1  ['man', 'wish', 'see', 'great', 'wish', 'see',...\n",
            "2      2  ['fram', '’', 'treachery', 'fled', 'upon', 'vi...\n",
            "3      1  ['respectable', 'young', 'man', 'resident', 'c...\n",
            "4      0  ['slightly', 'tilted', 'two', 'black', 'dot', ...\n",
            "Sample Tokens from training data: 0    [every, man, man, throstle, sing, fall, straig...\n",
            "1    [fault, answered, muscari, fault, troy, fell, ...\n",
            "2    [place, one, felt, never, allowed, place, luxu...\n",
            "3    [somewhat, quaintly, clad, tight, uniform, yel...\n",
            "4    [box, mistress, quickly, ay, forsooth, ’, fetc...\n",
            "Name: Tokens, dtype: object\n",
            "Sample Tokens from testing data: 0    [probability, event, dread, whether, considers...\n",
            "1    [man, wish, see, great, wish, see, really, sou...\n",
            "2    [fram, ’, treachery, fled, upon, villainy, cla...\n",
            "3    [respectable, young, man, resident, curate, ev...\n",
            "4    [slightly, tilted, two, black, dot, dropped, e...\n",
            "Name: Tokens, dtype: object\n",
            "Train BoW shape: (10174, 5001)\n",
            "Test BoW shape: (5709, 5001)\n",
            "train_bow.csv and test_bow.csv have been saved successfully.\n"
          ]
        }
      ],
      "source": [
        "import pandas as pd\n",
        "from sklearn.feature_extraction.text import CountVectorizer\n",
        "\n",
        "def create_bow_dataframe(df):\n",
        "    # Check the content of the Tokens column\n",
        "    print(\"Sample Tokens from training data:\", df['Tokens'].head())\n",
        "\n",
        "    # Ensure the Tokens column is not empty and contains lists of strings\n",
        "    assert df['Tokens'].apply(lambda x: isinstance(x, list) and len(x) > 0 and all(isinstance(i, str) for i in x)).all(), \"Some rows have invalid tokens\"\n",
        "\n",
        "    # Convert lists of tokens to space-separated strings\n",
        "    sentences = df['Tokens'].apply(lambda tokens: ' '.join(tokens))\n",
        "\n",
        "    # Initialize CountVectorizer with custom parameters\n",
        "    vectorizer = CountVectorizer(stop_words='english', token_pattern=r'\\b\\w+\\b', max_features=5000)\n",
        "\n",
        "    # Fit and transform the data\n",
        "    X_bow = vectorizer.fit_transform(sentences)\n",
        "\n",
        "    # Convert to DataFrame\n",
        "    bow_df = pd.DataFrame(X_bow.toarray(), columns=vectorizer.get_feature_names_out())\n",
        "\n",
        "    # Add the label column back to the DataFrame\n",
        "    bow_df['label'] = df['Label'].values\n",
        "\n",
        "    return bow_df, vectorizer\n",
        "\n",
        "def transform_bow_dataframe(df, vectorizer):\n",
        "    # Check the content of the Tokens column\n",
        "    print(\"Sample Tokens from testing data:\", df['Tokens'].head())\n",
        "\n",
        "    # Ensure the Tokens column is not empty and contains lists of strings\n",
        "    assert df['Tokens'].apply(lambda x: isinstance(x, list) and len(x) > 0 and all(isinstance(i, str) for i in x)).all(), \"Some rows have invalid tokens\"\n",
        "\n",
        "    # Convert lists of tokens to space-separated strings\n",
        "    sentences = df['Tokens'].apply(lambda tokens: ' '.join(tokens))\n",
        "\n",
        "    # Transform the data using the fitted vectorizer\n",
        "    X_bow = vectorizer.transform(sentences)\n",
        "\n",
        "    # Convert to DataFrame\n",
        "    bow_df = pd.DataFrame(X_bow.toarray(), columns=vectorizer.get_feature_names_out())\n",
        "\n",
        "    # Add the label column back to the DataFrame\n",
        "    bow_df['label'] = df['Label'].values\n",
        "\n",
        "    return bow_df\n",
        "\n",
        "try:\n",
        "    # Read the CSV files into DataFrames\n",
        "    filtered_train_df = pd.read_csv('final_train_df.csv')\n",
        "    filtered_test_df = pd.read_csv('final_test_df.csv')\n",
        "\n",
        "    # Check the first few rows of the dataframes\n",
        "    print(\"First few rows of training data:\")\n",
        "    print(filtered_train_df.head())\n",
        "\n",
        "    print(\"First few rows of testing data:\")\n",
        "    print(filtered_test_df.head())\n",
        "\n",
        "    # Ensure that the Tokens column is evaluated as a list of strings\n",
        "    filtered_train_df['Tokens'] = filtered_train_df['Tokens'].apply(eval)\n",
        "    filtered_test_df['Tokens'] = filtered_test_df['Tokens'].apply(eval)\n",
        "\n",
        "    # Create BoW for training data\n",
        "    train_bow_df, vectorizer = create_bow_dataframe(filtered_train_df)\n",
        "\n",
        "    # Create BoW for testing data using the same vectorizer\n",
        "    test_bow_df = transform_bow_dataframe(filtered_test_df, vectorizer)\n",
        "\n",
        "    # Save to CSV files\n",
        "    train_bow_df.to_csv('train_bow.csv', index=False)\n",
        "    test_bow_df.to_csv('test_bow.csv', index=False)\n",
        "\n",
        "    print(\"Train BoW shape:\", train_bow_df.shape)\n",
        "    print(\"Test BoW shape:\", test_bow_df.shape)\n",
        "    print(\"train_bow.csv and test_bow.csv have been saved successfully.\")\n",
        "\n",
        "except ValueError as e:\n",
        "    print(\"Error:\", e)\n",
        "    print(\"Check the content of your dataframes and ensure they contain valid tokens.\")\n",
        "except AssertionError as e:\n",
        "    print(\"AssertionError:\", e)\n",
        "    print(\"Check the Tokens column for validity.\")\n",
        "\n"
      ]
    },
    {
      "cell_type": "code",
      "execution_count": null,
      "metadata": {
        "id": "S3xD8k-M4wTd"
      },
      "outputs": [],
      "source": [
        "# Save to CSV files\n",
        "train_bow_df.to_csv('train_bow.csv', index=False)\n",
        "test_bow_df.to_csv('test_bow.csv', index=False)"
      ]
    },
    {
      "cell_type": "code",
      "execution_count": null,
      "metadata": {
        "colab": {
          "base_uri": "https://localhost:8080/",
          "height": 235
        },
        "id": "tQ22VWA1Osid",
        "outputId": "db3e6df7-90f1-4c68-8a4e-1f4155ad8617"
      },
      "outputs": [
        {
          "output_type": "execute_result",
          "data": {
            "text/plain": [
              "   _  _aside  _aside_  _dies  _ergo_  _exeunt  _exit  _giving  _he  _he_  ...  \\\n",
              "0  0       0        0      0       0        0      0        0    0     0  ...   \n",
              "1  0       0        0      0       0        0      0        0    0     0  ...   \n",
              "2  0       0        0      0       0        0      0        0    0     0  ...   \n",
              "3  0       0        0      0       0        0      0        0    0     0  ...   \n",
              "4  0       0        1      0       0        0      0        0    0     0  ...   \n",
              "\n",
              "   yonder  yorkshire  young  younger  youngest  youth  youthful  ze  zeal  \\\n",
              "0       0          0      0        0         0      0         0   0     0   \n",
              "1       0          0      0        0         0      0         0   0     0   \n",
              "2       0          0      0        0         0      0         0   0     0   \n",
              "3       0          0      0        0         0      0         0   0     0   \n",
              "4       0          0      1        0         0      0         0   0     0   \n",
              "\n",
              "   label  \n",
              "0      2  \n",
              "1      0  \n",
              "2      0  \n",
              "3      0  \n",
              "4      2  \n",
              "\n",
              "[5 rows x 5001 columns]"
            ],
            "text/html": [
              "\n",
              "  <div id=\"df-4dcebd1d-3758-43cc-8669-57a5a197a9ba\" class=\"colab-df-container\">\n",
              "    <div>\n",
              "<style scoped>\n",
              "    .dataframe tbody tr th:only-of-type {\n",
              "        vertical-align: middle;\n",
              "    }\n",
              "\n",
              "    .dataframe tbody tr th {\n",
              "        vertical-align: top;\n",
              "    }\n",
              "\n",
              "    .dataframe thead th {\n",
              "        text-align: right;\n",
              "    }\n",
              "</style>\n",
              "<table border=\"1\" class=\"dataframe\">\n",
              "  <thead>\n",
              "    <tr style=\"text-align: right;\">\n",
              "      <th></th>\n",
              "      <th>_</th>\n",
              "      <th>_aside</th>\n",
              "      <th>_aside_</th>\n",
              "      <th>_dies</th>\n",
              "      <th>_ergo_</th>\n",
              "      <th>_exeunt</th>\n",
              "      <th>_exit</th>\n",
              "      <th>_giving</th>\n",
              "      <th>_he</th>\n",
              "      <th>_he_</th>\n",
              "      <th>...</th>\n",
              "      <th>yonder</th>\n",
              "      <th>yorkshire</th>\n",
              "      <th>young</th>\n",
              "      <th>younger</th>\n",
              "      <th>youngest</th>\n",
              "      <th>youth</th>\n",
              "      <th>youthful</th>\n",
              "      <th>ze</th>\n",
              "      <th>zeal</th>\n",
              "      <th>label</th>\n",
              "    </tr>\n",
              "  </thead>\n",
              "  <tbody>\n",
              "    <tr>\n",
              "      <th>0</th>\n",
              "      <td>0</td>\n",
              "      <td>0</td>\n",
              "      <td>0</td>\n",
              "      <td>0</td>\n",
              "      <td>0</td>\n",
              "      <td>0</td>\n",
              "      <td>0</td>\n",
              "      <td>0</td>\n",
              "      <td>0</td>\n",
              "      <td>0</td>\n",
              "      <td>...</td>\n",
              "      <td>0</td>\n",
              "      <td>0</td>\n",
              "      <td>0</td>\n",
              "      <td>0</td>\n",
              "      <td>0</td>\n",
              "      <td>0</td>\n",
              "      <td>0</td>\n",
              "      <td>0</td>\n",
              "      <td>0</td>\n",
              "      <td>2</td>\n",
              "    </tr>\n",
              "    <tr>\n",
              "      <th>1</th>\n",
              "      <td>0</td>\n",
              "      <td>0</td>\n",
              "      <td>0</td>\n",
              "      <td>0</td>\n",
              "      <td>0</td>\n",
              "      <td>0</td>\n",
              "      <td>0</td>\n",
              "      <td>0</td>\n",
              "      <td>0</td>\n",
              "      <td>0</td>\n",
              "      <td>...</td>\n",
              "      <td>0</td>\n",
              "      <td>0</td>\n",
              "      <td>0</td>\n",
              "      <td>0</td>\n",
              "      <td>0</td>\n",
              "      <td>0</td>\n",
              "      <td>0</td>\n",
              "      <td>0</td>\n",
              "      <td>0</td>\n",
              "      <td>0</td>\n",
              "    </tr>\n",
              "    <tr>\n",
              "      <th>2</th>\n",
              "      <td>0</td>\n",
              "      <td>0</td>\n",
              "      <td>0</td>\n",
              "      <td>0</td>\n",
              "      <td>0</td>\n",
              "      <td>0</td>\n",
              "      <td>0</td>\n",
              "      <td>0</td>\n",
              "      <td>0</td>\n",
              "      <td>0</td>\n",
              "      <td>...</td>\n",
              "      <td>0</td>\n",
              "      <td>0</td>\n",
              "      <td>0</td>\n",
              "      <td>0</td>\n",
              "      <td>0</td>\n",
              "      <td>0</td>\n",
              "      <td>0</td>\n",
              "      <td>0</td>\n",
              "      <td>0</td>\n",
              "      <td>0</td>\n",
              "    </tr>\n",
              "    <tr>\n",
              "      <th>3</th>\n",
              "      <td>0</td>\n",
              "      <td>0</td>\n",
              "      <td>0</td>\n",
              "      <td>0</td>\n",
              "      <td>0</td>\n",
              "      <td>0</td>\n",
              "      <td>0</td>\n",
              "      <td>0</td>\n",
              "      <td>0</td>\n",
              "      <td>0</td>\n",
              "      <td>...</td>\n",
              "      <td>0</td>\n",
              "      <td>0</td>\n",
              "      <td>0</td>\n",
              "      <td>0</td>\n",
              "      <td>0</td>\n",
              "      <td>0</td>\n",
              "      <td>0</td>\n",
              "      <td>0</td>\n",
              "      <td>0</td>\n",
              "      <td>0</td>\n",
              "    </tr>\n",
              "    <tr>\n",
              "      <th>4</th>\n",
              "      <td>0</td>\n",
              "      <td>0</td>\n",
              "      <td>1</td>\n",
              "      <td>0</td>\n",
              "      <td>0</td>\n",
              "      <td>0</td>\n",
              "      <td>0</td>\n",
              "      <td>0</td>\n",
              "      <td>0</td>\n",
              "      <td>0</td>\n",
              "      <td>...</td>\n",
              "      <td>0</td>\n",
              "      <td>0</td>\n",
              "      <td>1</td>\n",
              "      <td>0</td>\n",
              "      <td>0</td>\n",
              "      <td>0</td>\n",
              "      <td>0</td>\n",
              "      <td>0</td>\n",
              "      <td>0</td>\n",
              "      <td>2</td>\n",
              "    </tr>\n",
              "  </tbody>\n",
              "</table>\n",
              "<p>5 rows × 5001 columns</p>\n",
              "</div>\n",
              "    <div class=\"colab-df-buttons\">\n",
              "\n",
              "  <div class=\"colab-df-container\">\n",
              "    <button class=\"colab-df-convert\" onclick=\"convertToInteractive('df-4dcebd1d-3758-43cc-8669-57a5a197a9ba')\"\n",
              "            title=\"Convert this dataframe to an interactive table.\"\n",
              "            style=\"display:none;\">\n",
              "\n",
              "  <svg xmlns=\"http://www.w3.org/2000/svg\" height=\"24px\" viewBox=\"0 -960 960 960\">\n",
              "    <path d=\"M120-120v-720h720v720H120Zm60-500h600v-160H180v160Zm220 220h160v-160H400v160Zm0 220h160v-160H400v160ZM180-400h160v-160H180v160Zm440 0h160v-160H620v160ZM180-180h160v-160H180v160Zm440 0h160v-160H620v160Z\"/>\n",
              "  </svg>\n",
              "    </button>\n",
              "\n",
              "  <style>\n",
              "    .colab-df-container {\n",
              "      display:flex;\n",
              "      gap: 12px;\n",
              "    }\n",
              "\n",
              "    .colab-df-convert {\n",
              "      background-color: #E8F0FE;\n",
              "      border: none;\n",
              "      border-radius: 50%;\n",
              "      cursor: pointer;\n",
              "      display: none;\n",
              "      fill: #1967D2;\n",
              "      height: 32px;\n",
              "      padding: 0 0 0 0;\n",
              "      width: 32px;\n",
              "    }\n",
              "\n",
              "    .colab-df-convert:hover {\n",
              "      background-color: #E2EBFA;\n",
              "      box-shadow: 0px 1px 2px rgba(60, 64, 67, 0.3), 0px 1px 3px 1px rgba(60, 64, 67, 0.15);\n",
              "      fill: #174EA6;\n",
              "    }\n",
              "\n",
              "    .colab-df-buttons div {\n",
              "      margin-bottom: 4px;\n",
              "    }\n",
              "\n",
              "    [theme=dark] .colab-df-convert {\n",
              "      background-color: #3B4455;\n",
              "      fill: #D2E3FC;\n",
              "    }\n",
              "\n",
              "    [theme=dark] .colab-df-convert:hover {\n",
              "      background-color: #434B5C;\n",
              "      box-shadow: 0px 1px 3px 1px rgba(0, 0, 0, 0.15);\n",
              "      filter: drop-shadow(0px 1px 2px rgba(0, 0, 0, 0.3));\n",
              "      fill: #FFFFFF;\n",
              "    }\n",
              "  </style>\n",
              "\n",
              "    <script>\n",
              "      const buttonEl =\n",
              "        document.querySelector('#df-4dcebd1d-3758-43cc-8669-57a5a197a9ba button.colab-df-convert');\n",
              "      buttonEl.style.display =\n",
              "        google.colab.kernel.accessAllowed ? 'block' : 'none';\n",
              "\n",
              "      async function convertToInteractive(key) {\n",
              "        const element = document.querySelector('#df-4dcebd1d-3758-43cc-8669-57a5a197a9ba');\n",
              "        const dataTable =\n",
              "          await google.colab.kernel.invokeFunction('convertToInteractive',\n",
              "                                                    [key], {});\n",
              "        if (!dataTable) return;\n",
              "\n",
              "        const docLinkHtml = 'Like what you see? Visit the ' +\n",
              "          '<a target=\"_blank\" href=https://colab.research.google.com/notebooks/data_table.ipynb>data table notebook</a>'\n",
              "          + ' to learn more about interactive tables.';\n",
              "        element.innerHTML = '';\n",
              "        dataTable['output_type'] = 'display_data';\n",
              "        await google.colab.output.renderOutput(dataTable, element);\n",
              "        const docLink = document.createElement('div');\n",
              "        docLink.innerHTML = docLinkHtml;\n",
              "        element.appendChild(docLink);\n",
              "      }\n",
              "    </script>\n",
              "  </div>\n",
              "\n",
              "\n",
              "<div id=\"df-9511e351-454e-43e0-8464-e38569e17851\">\n",
              "  <button class=\"colab-df-quickchart\" onclick=\"quickchart('df-9511e351-454e-43e0-8464-e38569e17851')\"\n",
              "            title=\"Suggest charts\"\n",
              "            style=\"display:none;\">\n",
              "\n",
              "<svg xmlns=\"http://www.w3.org/2000/svg\" height=\"24px\"viewBox=\"0 0 24 24\"\n",
              "     width=\"24px\">\n",
              "    <g>\n",
              "        <path d=\"M19 3H5c-1.1 0-2 .9-2 2v14c0 1.1.9 2 2 2h14c1.1 0 2-.9 2-2V5c0-1.1-.9-2-2-2zM9 17H7v-7h2v7zm4 0h-2V7h2v10zm4 0h-2v-4h2v4z\"/>\n",
              "    </g>\n",
              "</svg>\n",
              "  </button>\n",
              "\n",
              "<style>\n",
              "  .colab-df-quickchart {\n",
              "      --bg-color: #E8F0FE;\n",
              "      --fill-color: #1967D2;\n",
              "      --hover-bg-color: #E2EBFA;\n",
              "      --hover-fill-color: #174EA6;\n",
              "      --disabled-fill-color: #AAA;\n",
              "      --disabled-bg-color: #DDD;\n",
              "  }\n",
              "\n",
              "  [theme=dark] .colab-df-quickchart {\n",
              "      --bg-color: #3B4455;\n",
              "      --fill-color: #D2E3FC;\n",
              "      --hover-bg-color: #434B5C;\n",
              "      --hover-fill-color: #FFFFFF;\n",
              "      --disabled-bg-color: #3B4455;\n",
              "      --disabled-fill-color: #666;\n",
              "  }\n",
              "\n",
              "  .colab-df-quickchart {\n",
              "    background-color: var(--bg-color);\n",
              "    border: none;\n",
              "    border-radius: 50%;\n",
              "    cursor: pointer;\n",
              "    display: none;\n",
              "    fill: var(--fill-color);\n",
              "    height: 32px;\n",
              "    padding: 0;\n",
              "    width: 32px;\n",
              "  }\n",
              "\n",
              "  .colab-df-quickchart:hover {\n",
              "    background-color: var(--hover-bg-color);\n",
              "    box-shadow: 0 1px 2px rgba(60, 64, 67, 0.3), 0 1px 3px 1px rgba(60, 64, 67, 0.15);\n",
              "    fill: var(--button-hover-fill-color);\n",
              "  }\n",
              "\n",
              "  .colab-df-quickchart-complete:disabled,\n",
              "  .colab-df-quickchart-complete:disabled:hover {\n",
              "    background-color: var(--disabled-bg-color);\n",
              "    fill: var(--disabled-fill-color);\n",
              "    box-shadow: none;\n",
              "  }\n",
              "\n",
              "  .colab-df-spinner {\n",
              "    border: 2px solid var(--fill-color);\n",
              "    border-color: transparent;\n",
              "    border-bottom-color: var(--fill-color);\n",
              "    animation:\n",
              "      spin 1s steps(1) infinite;\n",
              "  }\n",
              "\n",
              "  @keyframes spin {\n",
              "    0% {\n",
              "      border-color: transparent;\n",
              "      border-bottom-color: var(--fill-color);\n",
              "      border-left-color: var(--fill-color);\n",
              "    }\n",
              "    20% {\n",
              "      border-color: transparent;\n",
              "      border-left-color: var(--fill-color);\n",
              "      border-top-color: var(--fill-color);\n",
              "    }\n",
              "    30% {\n",
              "      border-color: transparent;\n",
              "      border-left-color: var(--fill-color);\n",
              "      border-top-color: var(--fill-color);\n",
              "      border-right-color: var(--fill-color);\n",
              "    }\n",
              "    40% {\n",
              "      border-color: transparent;\n",
              "      border-right-color: var(--fill-color);\n",
              "      border-top-color: var(--fill-color);\n",
              "    }\n",
              "    60% {\n",
              "      border-color: transparent;\n",
              "      border-right-color: var(--fill-color);\n",
              "    }\n",
              "    80% {\n",
              "      border-color: transparent;\n",
              "      border-right-color: var(--fill-color);\n",
              "      border-bottom-color: var(--fill-color);\n",
              "    }\n",
              "    90% {\n",
              "      border-color: transparent;\n",
              "      border-bottom-color: var(--fill-color);\n",
              "    }\n",
              "  }\n",
              "</style>\n",
              "\n",
              "  <script>\n",
              "    async function quickchart(key) {\n",
              "      const quickchartButtonEl =\n",
              "        document.querySelector('#' + key + ' button');\n",
              "      quickchartButtonEl.disabled = true;  // To prevent multiple clicks.\n",
              "      quickchartButtonEl.classList.add('colab-df-spinner');\n",
              "      try {\n",
              "        const charts = await google.colab.kernel.invokeFunction(\n",
              "            'suggestCharts', [key], {});\n",
              "      } catch (error) {\n",
              "        console.error('Error during call to suggestCharts:', error);\n",
              "      }\n",
              "      quickchartButtonEl.classList.remove('colab-df-spinner');\n",
              "      quickchartButtonEl.classList.add('colab-df-quickchart-complete');\n",
              "    }\n",
              "    (() => {\n",
              "      let quickchartButtonEl =\n",
              "        document.querySelector('#df-9511e351-454e-43e0-8464-e38569e17851 button');\n",
              "      quickchartButtonEl.style.display =\n",
              "        google.colab.kernel.accessAllowed ? 'block' : 'none';\n",
              "    })();\n",
              "  </script>\n",
              "</div>\n",
              "\n",
              "    </div>\n",
              "  </div>\n"
            ],
            "application/vnd.google.colaboratory.intrinsic+json": {
              "type": "dataframe",
              "variable_name": "train_bow_df"
            }
          },
          "metadata": {},
          "execution_count": 42
        }
      ],
      "source": [
        "train_bow_df.head()"
      ]
    },
    {
      "cell_type": "code",
      "execution_count": null,
      "metadata": {
        "colab": {
          "base_uri": "https://localhost:8080/"
        },
        "id": "Vaj7hgMpO5bY",
        "outputId": "66e79e13-a50b-4bb7-c833-4e446b474fb4"
      },
      "outputs": [
        {
          "output_type": "stream",
          "name": "stdout",
          "text": [
            "(10174, 5001)\n",
            "(5709, 5001)\n"
          ]
        }
      ],
      "source": [
        "print(train_bow_df.shape)\n",
        "print(test_bow_df.shape)"
      ]
    },
    {
      "cell_type": "markdown",
      "metadata": {
        "id": "Mjvt4gWL4phM"
      },
      "source": [
        "Training on Multinomial Naivebayes"
      ]
    },
    {
      "cell_type": "code",
      "execution_count": null,
      "metadata": {
        "colab": {
          "base_uri": "https://localhost:8080/"
        },
        "id": "4q1JPl_DPkI3",
        "outputId": "389f3b86-c5c0-497c-b5d0-1197e32b47ea"
      },
      "outputs": [
        {
          "output_type": "stream",
          "name": "stdout",
          "text": [
            "Accuracy: 0.8516377649325626\n",
            "Classification Report:\n",
            "              precision    recall  f1-score   support\n",
            "\n",
            "           0       0.83      0.83      0.83      1978\n",
            "           1       0.85      0.84      0.84      2047\n",
            "           2       0.88      0.89      0.88      1684\n",
            "\n",
            "    accuracy                           0.85      5709\n",
            "   macro avg       0.85      0.85      0.85      5709\n",
            "weighted avg       0.85      0.85      0.85      5709\n",
            "\n",
            "Confusion Matrix:\n",
            "[[1639  224  115]\n",
            " [ 232 1721   94]\n",
            " [  96   86 1502]]\n"
          ]
        }
      ],
      "source": [
        "from sklearn.naive_bayes import MultinomialNB\n",
        "from sklearn.metrics import accuracy_score, classification_report, confusion_matrix\n",
        "\n",
        "# Extract features and labels from the training and testing DataFrames\n",
        "X_train = train_bow_df.drop(columns='label').values\n",
        "y_train = train_bow_df['label'].values\n",
        "X_test = test_bow_df.drop(columns='label').values\n",
        "y_test = test_bow_df['label'].values\n",
        "\n",
        "# Initialize and train the Naive Bayes model\n",
        "model = MultinomialNB()\n",
        "model.fit(X_train, y_train)\n",
        "\n",
        "# Make predictions on the test data\n",
        "y_pred = model.predict(X_test)\n",
        "\n",
        "# Evaluate the model\n",
        "accuracy = accuracy_score(y_test, y_pred)\n",
        "report = classification_report(y_test, y_pred)\n",
        "conf_matrix = confusion_matrix(y_test, y_pred)\n",
        "\n",
        "print(f'Accuracy: {accuracy}')\n",
        "print('Classification Report:')\n",
        "print(report)\n",
        "print('Confusion Matrix:')\n",
        "print(conf_matrix)\n"
      ]
    },
    {
      "cell_type": "code",
      "execution_count": null,
      "metadata": {
        "colab": {
          "base_uri": "https://localhost:8080/",
          "height": 1000
        },
        "id": "lnR4a15LWsNn",
        "outputId": "ab32ed46-f7e6-4542-8a0a-5d120a40d109"
      },
      "outputs": [
        {
          "output_type": "stream",
          "name": "stdout",
          "text": [
            "Sample Tokens from training data: 0    [every, man, man, throstle, sing, fall, straig...\n",
            "1    [fault, answered, muscari, fault, troy, fell, ...\n",
            "2    [place, one, felt, never, allowed, place, luxu...\n",
            "3    [somewhat, quaintly, clad, tight, uniform, yel...\n",
            "4    [box, mistress, quickly, ay, forsooth, ’, fetc...\n",
            "Name: Tokens, dtype: object\n",
            "Sample Tokens from testing data: 0    [probability, event, dread, whether, considers...\n",
            "1    [man, wish, see, great, wish, see, really, sou...\n",
            "2    [fram, ’, treachery, fled, upon, villainy, cla...\n",
            "3    [respectable, young, man, resident, curate, ev...\n",
            "4    [slightly, tilted, two, black, dot, dropped, e...\n",
            "Name: Tokens, dtype: object\n",
            "Accuracy for random state 0: 0.8516377649325626\n",
            "Classification Report:\n",
            "              precision    recall  f1-score   support\n",
            "\n",
            "           0       0.83      0.83      0.83      1978\n",
            "           1       0.85      0.84      0.84      2047\n",
            "           2       0.88      0.89      0.88      1684\n",
            "\n",
            "    accuracy                           0.85      5709\n",
            "   macro avg       0.85      0.85      0.85      5709\n",
            "weighted avg       0.85      0.85      0.85      5709\n",
            "\n",
            "Confusion Matrix:\n",
            "[[1639  224  115]\n",
            " [ 232 1721   94]\n",
            " [  96   86 1502]]\n",
            "--------------------------------------------------\n",
            "Accuracy for random state 1: 0.8516377649325626\n",
            "Classification Report:\n",
            "              precision    recall  f1-score   support\n",
            "\n",
            "           0       0.83      0.83      0.83      1978\n",
            "           1       0.85      0.84      0.84      2047\n",
            "           2       0.88      0.89      0.88      1684\n",
            "\n",
            "    accuracy                           0.85      5709\n",
            "   macro avg       0.85      0.85      0.85      5709\n",
            "weighted avg       0.85      0.85      0.85      5709\n",
            "\n",
            "Confusion Matrix:\n",
            "[[1639  224  115]\n",
            " [ 232 1721   94]\n",
            " [  96   86 1502]]\n",
            "--------------------------------------------------\n",
            "Accuracy for random state 2: 0.8516377649325626\n",
            "Classification Report:\n",
            "              precision    recall  f1-score   support\n",
            "\n",
            "           0       0.83      0.83      0.83      1978\n",
            "           1       0.85      0.84      0.84      2047\n",
            "           2       0.88      0.89      0.88      1684\n",
            "\n",
            "    accuracy                           0.85      5709\n",
            "   macro avg       0.85      0.85      0.85      5709\n",
            "weighted avg       0.85      0.85      0.85      5709\n",
            "\n",
            "Confusion Matrix:\n",
            "[[1639  224  115]\n",
            " [ 232 1721   94]\n",
            " [  96   86 1502]]\n",
            "--------------------------------------------------\n",
            "Accuracy for random state 3: 0.8516377649325626\n",
            "Classification Report:\n",
            "              precision    recall  f1-score   support\n",
            "\n",
            "           0       0.83      0.83      0.83      1978\n",
            "           1       0.85      0.84      0.84      2047\n",
            "           2       0.88      0.89      0.88      1684\n",
            "\n",
            "    accuracy                           0.85      5709\n",
            "   macro avg       0.85      0.85      0.85      5709\n",
            "weighted avg       0.85      0.85      0.85      5709\n",
            "\n",
            "Confusion Matrix:\n",
            "[[1639  224  115]\n",
            " [ 232 1721   94]\n",
            " [  96   86 1502]]\n",
            "--------------------------------------------------\n",
            "Accuracy for random state 4: 0.8516377649325626\n",
            "Classification Report:\n",
            "              precision    recall  f1-score   support\n",
            "\n",
            "           0       0.83      0.83      0.83      1978\n",
            "           1       0.85      0.84      0.84      2047\n",
            "           2       0.88      0.89      0.88      1684\n",
            "\n",
            "    accuracy                           0.85      5709\n",
            "   macro avg       0.85      0.85      0.85      5709\n",
            "weighted avg       0.85      0.85      0.85      5709\n",
            "\n",
            "Confusion Matrix:\n",
            "[[1639  224  115]\n",
            " [ 232 1721   94]\n",
            " [  96   86 1502]]\n",
            "--------------------------------------------------\n",
            "Average Accuracy: 0.85\n"
          ]
        },
        {
          "output_type": "display_data",
          "data": {
            "text/plain": [
              "<Figure size 640x480 with 2 Axes>"
            ],
            "image/png": "[encoded data removed]"
          },
          "metadata": {}
        }
      ],
      "source": [
        "import pandas as pd\n",
        "from sklearn.feature_extraction.text import CountVectorizer\n",
        "from sklearn.naive_bayes import MultinomialNB\n",
        "from sklearn.metrics import accuracy_score, confusion_matrix, ConfusionMatrixDisplay\n",
        "import matplotlib.pyplot as plt\n",
        "import numpy as np\n",
        "\n",
        "\n",
        "# Create BoW for training data\n",
        "train_bow_df, vectorizer = create_bow_dataframe(filtered_train_df)\n",
        "# Create BoW for testing data using the same vectorizer\n",
        "test_bow_df = transform_bow_dataframe(filtered_test_df, vectorizer)\n",
        "\n",
        "# Extract features and labels\n",
        "X_train = train_bow_df.drop(columns=['label'])\n",
        "y_train = train_bow_df['label']\n",
        "X_test = test_bow_df.drop(columns=['label'])\n",
        "y_test = test_bow_df['label']\n",
        "\n",
        "# Initialize the model\n",
        "model = MultinomialNB()\n",
        "\n",
        "# Function to train and evaluate the model\n",
        "def evaluate_model(random_state):\n",
        "    model.fit(X_train, y_train)\n",
        "    y_pred = model.predict(X_test)\n",
        "    accuracy = accuracy_score(y_test, y_pred)\n",
        "    return accuracy, y_pred\n",
        "\n",
        "# Perform evaluation for different random states\n",
        "random_states = [0, 1, 2, 3, 4]\n",
        "accuracies = []\n",
        "predictions = []\n",
        "\n",
        "for state in random_states:\n",
        "    accuracy, y_pred = evaluate_model(state)\n",
        "    accuracies.append(accuracy)\n",
        "    predictions.append(y_pred)\n",
        "    print(f'Accuracy for random state {state}: {accuracy}')\n",
        "    print('Classification Report:')\n",
        "    print(report)\n",
        "    print('Confusion Matrix:')\n",
        "    print(conf_matrix)\n",
        "    print('-' * 50)\n",
        "\n",
        "average_accuracy = np.mean(accuracies)\n",
        "print(f\"Average Accuracy: {average_accuracy:.2f}\")\n",
        "\n",
        "# Compute and display confusion matrix\n",
        "final_y_pred = np.mean(predictions, axis=0).round().astype(int)\n",
        "conf_matrix = confusion_matrix(y_test, final_y_pred)\n",
        "\n",
        "disp = ConfusionMatrixDisplay(confusion_matrix=conf_matrix, display_labels=[0, 1, 2])\n",
        "disp.plot(cmap=plt.cm.Blues, values_format='d')\n",
        "plt.title(\"Confusion Matrix\")\n",
        "plt.show()\n"
      ]
    },
    {
      "cell_type": "markdown",
      "metadata": {
        "id": "bUflr805LNfQ"
      },
      "source": [
        "Checking training accuracy"
      ]
    },
    {
      "cell_type": "code",
      "execution_count": null,
      "metadata": {
        "colab": {
          "base_uri": "https://localhost:8080/"
        },
        "id": "EDartdOYKwc4",
        "outputId": "4b901ba3-7584-4ff1-8137-216fc96e964b"
      },
      "outputs": [
        {
          "output_type": "stream",
          "name": "stdout",
          "text": [
            "Training Accuracy: 0.96\n"
          ]
        }
      ],
      "source": [
        "# Calculate training accuracy\n",
        "y_train_pred = model.predict(X_train)\n",
        "train_accuracy = accuracy_score(y_train, y_train_pred)\n",
        "\n",
        "print(f\"Training Accuracy: {train_accuracy:.2f}\")\n"
      ]
    },
    {
      "cell_type": "markdown",
      "metadata": {
        "id": "hUCCsnIBLTgF"
      },
      "source": [
        "Performing 5 fold cross validation"
      ]
    },
    {
      "cell_type": "code",
      "execution_count": null,
      "metadata": {
        "colab": {
          "base_uri": "https://localhost:8080/"
        },
        "id": "4SADgoccKxB9",
        "outputId": "7a881f73-dbec-4c1e-9de7-8e4b691b8511"
      },
      "outputs": [
        {
          "output_type": "stream",
          "name": "stdout",
          "text": [
            "Cross-Validation Scores: [0.93759214 0.93955774 0.93464373 0.93267813 0.93166175]\n",
            "Average Cross-Validation Score: 0.94\n"
          ]
        }
      ],
      "source": [
        "from sklearn.model_selection import cross_val_score\n",
        "\n",
        "# Perform 5-fold cross-validation on the training data\n",
        "cv_scores = cross_val_score(model, X_train, y_train, cv=5)\n",
        "\n",
        "print(f\"Cross-Validation Scores: {cv_scores}\")\n",
        "print(f\"Average Cross-Validation Score: {np.mean(cv_scores):.2f}\")\n"
      ]
    },
    {
      "cell_type": "markdown",
      "metadata": {
        "id": "XBwgFYSsqj10"
      },
      "source": [
        "Performing Hyperparameter tuning"
      ]
    },
    {
      "cell_type": "code",
      "execution_count": null,
      "metadata": {
        "colab": {
          "base_uri": "https://localhost:8080/",
          "height": 780
        },
        "id": "3Fh21jU3LDrp",
        "outputId": "d6e46bd5-12f5-4b75-e746-b96d350425f0"
      },
      "outputs": [
        {
          "output_type": "stream",
          "name": "stdout",
          "text": [
            "Best alpha: 0.13122448979591836\n",
            "Accuracy: 0.8472587143107374\n",
            "Classification Report:\n",
            "              precision    recall  f1-score   support\n",
            "\n",
            "           0       0.81      0.84      0.83      1978\n",
            "           1       0.85      0.82      0.84      2047\n",
            "           2       0.88      0.89      0.88      1684\n",
            "\n",
            "    accuracy                           0.85      5709\n",
            "   macro avg       0.85      0.85      0.85      5709\n",
            "weighted avg       0.85      0.85      0.85      5709\n",
            "\n",
            "Confusion Matrix:\n",
            "[[1662  205  111]\n",
            " [ 277 1675   95]\n",
            " [ 101   83 1500]]\n"
          ]
        },
        {
          "output_type": "display_data",
          "data": {
            "text/plain": [
              "<Figure size 640x480 with 2 Axes>"
            ],
            "image/png": "[encoded data removed]"
          },
          "metadata": {}
        }
      ],
      "source": [
        "import pandas as pd\n",
        "from sklearn.feature_extraction.text import CountVectorizer\n",
        "from sklearn.naive_bayes import MultinomialNB\n",
        "from sklearn.model_selection import GridSearchCV\n",
        "from sklearn.metrics import accuracy_score, classification_report, confusion_matrix, ConfusionMatrixDisplay\n",
        "import matplotlib.pyplot as plt\n",
        "import numpy as np\n",
        "\n",
        "# Initialize the model\n",
        "model = MultinomialNB()\n",
        "\n",
        "# Hyperparameter tuning\n",
        "param_grid = {'alpha': np.linspace(0.01, 1, 50)}\n",
        "grid_search = GridSearchCV(model, param_grid, cv=5, scoring='accuracy')\n",
        "grid_search.fit(X_train, y_train)\n",
        "\n",
        "# Get the best model\n",
        "best_model = grid_search.best_estimator_\n",
        "\n",
        "# Evaluate the best model\n",
        "y_pred = best_model.predict(X_test)\n",
        "accuracy = accuracy_score(y_test, y_pred)\n",
        "report = classification_report(y_test, y_pred)\n",
        "conf_matrix = confusion_matrix(y_test, y_pred)\n",
        "\n",
        "# Print results\n",
        "print(f\"Best alpha: {grid_search.best_params_['alpha']}\")\n",
        "print(f\"Accuracy: {accuracy}\")\n",
        "print('Classification Report:')\n",
        "print(report)\n",
        "print('Confusion Matrix:')\n",
        "print(conf_matrix)\n",
        "\n",
        "# Display confusion matrix\n",
        "disp = ConfusionMatrixDisplay(confusion_matrix=conf_matrix, display_labels=[0, 1, 2])\n",
        "disp.plot(cmap=plt.cm.Blues, values_format='d')\n",
        "plt.title(\"Confusion Matrix\")\n",
        "plt.show()\n"
      ]
    },
    {
      "cell_type": "code",
      "execution_count": null,
      "metadata": {
        "colab": {
          "base_uri": "https://localhost:8080/",
          "height": 943
        },
        "id": "DrSV_b5Z07sj",
        "outputId": "7320174f-44c1-478a-b745-b68a4523bb96"
      },
      "outputs": [
        {
          "output_type": "stream",
          "name": "stdout",
          "text": [
            "Fitting 3 folds for each of 4 candidates, totalling 12 fits\n",
            "[CV] END ......................C=0.1, gamma=0.01, kernel=rbf; total time= 1.1min\n",
            "[CV] END ......................C=0.1, gamma=0.01, kernel=rbf; total time= 1.1min\n",
            "[CV] END ......................C=0.1, gamma=0.01, kernel=rbf; total time= 1.1min\n",
            "[CV] END .....................C=0.1, gamma=0.001, kernel=rbf; total time= 1.1min\n",
            "[CV] END .....................C=0.1, gamma=0.001, kernel=rbf; total time= 1.1min\n",
            "[CV] END .....................C=0.1, gamma=0.001, kernel=rbf; total time= 1.1min\n",
            "[CV] END ......................C=10, gamma=0.001, kernel=rbf; total time=  52.5s\n",
            "[CV] END ......................C=10, gamma=0.001, kernel=rbf; total time=  53.2s\n",
            "[CV] END ......................C=10, gamma=0.001, kernel=rbf; total time=  52.6s\n",
            "[CV] END ........................C=10, gamma=0.1, kernel=rbf; total time= 1.1min\n",
            "[CV] END ........................C=10, gamma=0.1, kernel=rbf; total time= 1.1min\n",
            "[CV] END ........................C=10, gamma=0.1, kernel=rbf; total time= 1.1min\n",
            "Best Parameters: {'kernel': 'rbf', 'gamma': 0.1, 'C': 10}\n",
            "Accuracy: 0.76\n",
            "Classification Report:\n",
            "              precision    recall  f1-score   support\n",
            "\n",
            "           0       0.74      0.76      0.75      1978\n",
            "           1       0.76      0.75      0.76      2047\n",
            "           2       0.80      0.78      0.79      1684\n",
            "\n",
            "    accuracy                           0.76      5709\n",
            "   macro avg       0.77      0.77      0.77      5709\n",
            "weighted avg       0.76      0.76      0.76      5709\n",
            "\n"
          ]
        },
        {
          "output_type": "display_data",
          "data": {
            "text/plain": [
              "<Figure size 640x480 with 2 Axes>"
            ],
            "image/png": "[encoded data removed]"
          },
          "metadata": {}
        }
      ],
      "source": [
        "from sklearn.model_selection import RandomizedSearchCV, train_test_split\n",
        "from sklearn.svm import SVC\n",
        "from sklearn.metrics import accuracy_score, classification_report, confusion_matrix, ConfusionMatrixDisplay\n",
        "import matplotlib.pyplot as plt\n",
        "\n",
        "# Extract features and labels\n",
        "X_train = train_bow_df.drop(columns=['label'])\n",
        "y_train = train_bow_df['label']\n",
        "X_test = test_bow_df.drop(columns=['label'])\n",
        "y_test = test_bow_df['label']\n",
        "\n",
        "# Use a subset of the training data\n",
        "X_train_sample, _, y_train_sample, _ = train_test_split(X_train, y_train, test_size=0.6, random_state=42)\n",
        "\n",
        "# Initialize the SVM model\n",
        "svm_model = SVC()\n",
        "\n",
        "# Define the parameter grid for Gaussian SVM\n",
        "param_grid = {\n",
        "    'C': [0.1, 1, 10],\n",
        "    'gamma': [0.1, 0.01, 0.001],\n",
        "    'kernel': ['rbf']\n",
        "}\n",
        "\n",
        "# Initialize RandomizedSearchCV with cross-validation\n",
        "random_search = RandomizedSearchCV(svm_model, param_distributions=param_grid, n_iter=4, refit=True, verbose=2, cv=3)\n",
        "\n",
        "# Fit the model on the training data sample\n",
        "random_search.fit(X_train_sample, y_train_sample)\n",
        "\n",
        "# Print the best parameters found by RandomizedSearchCV\n",
        "print(\"Best Parameters:\", random_search.best_params_)\n",
        "\n",
        "# Predict using the best model\n",
        "best_model = random_search.best_estimator_\n",
        "y_pred = best_model.predict(X_test)\n",
        "\n",
        "# Calculate and print the accuracy\n",
        "accuracy = accuracy_score(y_test, y_pred)\n",
        "print(f\"Accuracy: {accuracy:.2f}\")\n",
        "\n",
        "# Print the classification report\n",
        "report = classification_report(y_test, y_pred)\n",
        "print(\"Classification Report:\")\n",
        "print(report)\n",
        "\n",
        "# Compute and display confusion matrix\n",
        "conf_matrix = confusion_matrix(y_test, y_pred)\n",
        "disp = ConfusionMatrixDisplay(confusion_matrix=conf_matrix, display_labels=best_model.classes_)\n",
        "disp.plot(cmap=plt.cm.Blues, values_format='d')\n",
        "plt.title(\"Confusion Matrix\")\n",
        "plt.show()\n"
      ]
    },
    {
      "cell_type": "code",
      "execution_count": null,
      "metadata": {
        "id": "_cqe157R1TtI",
        "colab": {
          "base_uri": "https://localhost:8080/",
          "height": 1000
        },
        "outputId": "b6d879ad-cedf-4c9c-986f-9967e9b7d5a9"
      },
      "outputs": [
        {
          "output_type": "stream",
          "name": "stdout",
          "text": [
            "Fitting 3 folds for each of 4 candidates, totalling 12 fits\n",
            "[CV] END ................C=0.1, penalty=l2, solver=liblinear; total time=   1.5s\n",
            "[CV] END ................C=0.1, penalty=l2, solver=liblinear; total time=   1.7s\n",
            "[CV] END ................C=0.1, penalty=l2, solver=liblinear; total time=   1.6s\n"
          ]
        },
        {
          "output_type": "stream",
          "name": "stderr",
          "text": [
            "/usr/local/lib/python3.10/dist-packages/sklearn/linear_model/_sag.py:350: ConvergenceWarning: The max_iter was reached which means the coef_ did not converge\n",
            "  warnings.warn(\n"
          ]
        },
        {
          "output_type": "stream",
          "name": "stdout",
          "text": [
            "[CV] END ......................C=10, penalty=l2, solver=saga; total time= 1.7min\n"
          ]
        },
        {
          "output_type": "stream",
          "name": "stderr",
          "text": [
            "/usr/local/lib/python3.10/dist-packages/sklearn/linear_model/_sag.py:350: ConvergenceWarning: The max_iter was reached which means the coef_ did not converge\n",
            "  warnings.warn(\n"
          ]
        },
        {
          "output_type": "stream",
          "name": "stdout",
          "text": [
            "[CV] END ......................C=10, penalty=l2, solver=saga; total time= 1.6min\n"
          ]
        },
        {
          "output_type": "stream",
          "name": "stderr",
          "text": [
            "/usr/local/lib/python3.10/dist-packages/sklearn/linear_model/_sag.py:350: ConvergenceWarning: The max_iter was reached which means the coef_ did not converge\n",
            "  warnings.warn(\n"
          ]
        },
        {
          "output_type": "stream",
          "name": "stdout",
          "text": [
            "[CV] END ......................C=10, penalty=l2, solver=saga; total time= 1.6min\n",
            "[CV] END ................C=100, penalty=l1, solver=liblinear; total time=   1.0s\n",
            "[CV] END ................C=100, penalty=l1, solver=liblinear; total time=   1.0s\n",
            "[CV] END ................C=100, penalty=l1, solver=liblinear; total time=   1.0s\n"
          ]
        },
        {
          "output_type": "stream",
          "name": "stderr",
          "text": [
            "/usr/local/lib/python3.10/dist-packages/sklearn/linear_model/_sag.py:350: ConvergenceWarning: The max_iter was reached which means the coef_ did not converge\n",
            "  warnings.warn(\n"
          ]
        },
        {
          "output_type": "stream",
          "name": "stdout",
          "text": [
            "[CV] END .......................C=1, penalty=l2, solver=saga; total time= 1.6min\n"
          ]
        },
        {
          "output_type": "stream",
          "name": "stderr",
          "text": [
            "/usr/local/lib/python3.10/dist-packages/sklearn/linear_model/_sag.py:350: ConvergenceWarning: The max_iter was reached which means the coef_ did not converge\n",
            "  warnings.warn(\n"
          ]
        },
        {
          "output_type": "stream",
          "name": "stdout",
          "text": [
            "[CV] END .......................C=1, penalty=l2, solver=saga; total time= 1.5min\n"
          ]
        },
        {
          "output_type": "stream",
          "name": "stderr",
          "text": [
            "/usr/local/lib/python3.10/dist-packages/sklearn/linear_model/_sag.py:350: ConvergenceWarning: The max_iter was reached which means the coef_ did not converge\n",
            "  warnings.warn(\n"
          ]
        },
        {
          "output_type": "stream",
          "name": "stdout",
          "text": [
            "[CV] END .......................C=1, penalty=l2, solver=saga; total time= 1.6min\n"
          ]
        },
        {
          "output_type": "stream",
          "name": "stderr",
          "text": [
            "/usr/local/lib/python3.10/dist-packages/sklearn/linear_model/_sag.py:350: ConvergenceWarning: The max_iter was reached which means the coef_ did not converge\n",
            "  warnings.warn(\n"
          ]
        },
        {
          "output_type": "stream",
          "name": "stdout",
          "text": [
            "Best Parameters: {'solver': 'saga', 'penalty': 'l2', 'C': 1}\n",
            "Accuracy: 0.81\n",
            "Classification Report:\n",
            "              precision    recall  f1-score   support\n",
            "\n",
            "           0       0.77      0.82      0.80      1978\n",
            "           1       0.81      0.78      0.80      2047\n",
            "           2       0.85      0.83      0.84      1684\n",
            "\n",
            "    accuracy                           0.81      5709\n",
            "   macro avg       0.81      0.81      0.81      5709\n",
            "weighted avg       0.81      0.81      0.81      5709\n",
            "\n"
          ]
        },
        {
          "output_type": "display_data",
          "data": {
            "text/plain": [
              "<Figure size 640x480 with 2 Axes>"
            ],
            "image/png": "[encoded data removed]"
          },
          "metadata": {}
        }
      ],
      "source": [
        "import pandas as pd\n",
        "from sklearn.feature_extraction.text import CountVectorizer\n",
        "from sklearn.model_selection import train_test_split, GridSearchCV\n",
        "from sklearn.linear_model import LogisticRegression\n",
        "from sklearn.metrics import accuracy_score, classification_report, confusion_matrix, ConfusionMatrixDisplay\n",
        "import matplotlib.pyplot as plt\n",
        "\n",
        "# Extract features and labels\n",
        "X_train = train_bow_df.drop(columns=['label'])\n",
        "y_train = train_bow_df['label']\n",
        "X_test = test_bow_df.drop(columns=['label'])\n",
        "y_test = test_bow_df['label']\n",
        "\n",
        "# Use a subset of the training data\n",
        "# X_train_sample, _, y_train_sample, _ = train_test_split(X_train, y_train, test_size=0.6, random_state=42)\n",
        "\n",
        "# Initialize the SVM model\n",
        "lr_model = LogisticRegression()\n",
        "\n",
        "# Define the parameter grid for Gaussian SVM\n",
        "param_grid = {\n",
        "    'C': [0.1, 1, 10, 100],\n",
        "    'penalty': ['l1', 'l2'],  # L1 = Lasso, L2 = Ridge\n",
        "    'solver': ['liblinear', 'saga']  # liblinear is a good choice for small datasets\n",
        "}\n",
        "\n",
        "# Initialize RandomizedSearchCV with cross-validation\n",
        "random_search = RandomizedSearchCV(lr_model, param_distributions=param_grid, n_iter=4, refit=True, verbose=2, cv=3)\n",
        "\n",
        "# Fit the model on the training data sample\n",
        "random_search.fit(X_train, y_train)\n",
        "\n",
        "# Print the best parameters found by RandomizedSearchCV\n",
        "print(\"Best Parameters:\", random_search.best_params_)\n",
        "\n",
        "# Predict using the best model\n",
        "best_model = random_search.best_estimator_\n",
        "y_pred = best_model.predict(X_test)\n",
        "\n",
        "# Calculate and print the accuracy\n",
        "accuracy = accuracy_score(y_test, y_pred)\n",
        "print(f\"Accuracy: {accuracy:.2f}\")\n",
        "\n",
        "# Print the classification report\n",
        "report = classification_report(y_test, y_pred)\n",
        "print(\"Classification Report:\")\n",
        "print(report)\n",
        "\n",
        "# Compute and display confusion matrix\n",
        "conf_matrix = confusion_matrix(y_test, y_pred)\n",
        "disp = ConfusionMatrixDisplay(confusion_matrix=conf_matrix, display_labels=best_model.classes_)\n",
        "disp.plot(cmap=plt.cm.Blues, values_format='d')\n",
        "plt.title(\"Confusion Matrix\")\n",
        "plt.show()\n"
      ]
    },
    {
      "cell_type": "code",
      "source": [],
      "metadata": {
        "id": "RCNcO6_bbFoM"
      },
      "execution_count": null,
      "outputs": []
    }
  ],
  "metadata": {
    "colab": {
      "provenance": []
    },
    "kernelspec": {
      "display_name": "Python 3",
      "name": "python3"
    },
    "language_info": {
      "name": "python"
    }
  },
  "nbformat": 4,
  "nbformat_minor": 0
}
